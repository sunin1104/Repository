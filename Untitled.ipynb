{
 "cells": [
  {
   "cell_type": "code",
   "execution_count": 55,
   "id": "684d952a",
   "metadata": {
    "id": "7dc75ee2",
    "outputId": "a90ef6a5-c776-43f1-cfed-0ebd60e2be12"
   },
   "outputs": [
    {
     "name": "stdout",
     "output_type": "stream",
     "text": [
      "/aiffel\n"
     ]
    }
   ],
   "source": [
    "import pandas as pd\n",
    "import numpy as np\n",
    "import seaborn as sns\n",
    "%cd /aiffel"
   ]
  },
  {
   "cell_type": "code",
   "execution_count": 56,
   "id": "7a7a2d56",
   "metadata": {
    "id": "aa461d09",
    "scrolled": true
   },
   "outputs": [],
   "source": [
    "cc_df =  pd.read_csv('data/fraud.csv') "
   ]
  },
  {
   "cell_type": "code",
   "execution_count": 57,
   "id": "a20cf88c",
   "metadata": {
    "id": "13199902"
   },
   "outputs": [],
   "source": [
    "pd.set_option('display.max_columns', 50)"
   ]
  },
  {
   "cell_type": "code",
   "execution_count": 58,
   "id": "02f0e7cd",
   "metadata": {
    "id": "8fd17c7b",
    "outputId": "77d23082-8061-4980-d83e-b5b753bfa5ec",
    "scrolled": true
   },
   "outputs": [
    {
     "data": {
      "text/html": [
       "<div>\n",
       "<style scoped>\n",
       "    .dataframe tbody tr th:only-of-type {\n",
       "        vertical-align: middle;\n",
       "    }\n",
       "\n",
       "    .dataframe tbody tr th {\n",
       "        vertical-align: top;\n",
       "    }\n",
       "\n",
       "    .dataframe thead th {\n",
       "        text-align: right;\n",
       "    }\n",
       "</style>\n",
       "<table border=\"1\" class=\"dataframe\">\n",
       "  <thead>\n",
       "    <tr style=\"text-align: right;\">\n",
       "      <th></th>\n",
       "      <th>trans_date_trans_time</th>\n",
       "      <th>cc_num</th>\n",
       "      <th>merchant</th>\n",
       "      <th>category</th>\n",
       "      <th>amt</th>\n",
       "      <th>first</th>\n",
       "      <th>last</th>\n",
       "      <th>gender</th>\n",
       "      <th>street</th>\n",
       "      <th>city</th>\n",
       "      <th>state</th>\n",
       "      <th>zip</th>\n",
       "      <th>lat</th>\n",
       "      <th>long</th>\n",
       "      <th>city_pop</th>\n",
       "      <th>job</th>\n",
       "      <th>dob</th>\n",
       "      <th>trans_num</th>\n",
       "      <th>unix_time</th>\n",
       "      <th>merch_lat</th>\n",
       "      <th>merch_long</th>\n",
       "      <th>is_fraud</th>\n",
       "    </tr>\n",
       "  </thead>\n",
       "  <tbody>\n",
       "    <tr>\n",
       "      <th>0</th>\n",
       "      <td>2019-01-01 00:00:44</td>\n",
       "      <td>630423337322</td>\n",
       "      <td>fraud_Heller, Gutmann and Zieme</td>\n",
       "      <td>grocery_pos</td>\n",
       "      <td>107.23</td>\n",
       "      <td>Stephanie</td>\n",
       "      <td>Gill</td>\n",
       "      <td>F</td>\n",
       "      <td>43039 Riley Greens Suite 393</td>\n",
       "      <td>Orient</td>\n",
       "      <td>WA</td>\n",
       "      <td>99160</td>\n",
       "      <td>48.8878</td>\n",
       "      <td>-118.2105</td>\n",
       "      <td>149</td>\n",
       "      <td>Special educational needs teacher</td>\n",
       "      <td>1978-06-21</td>\n",
       "      <td>1f76529f8574734946361c461b024d99</td>\n",
       "      <td>1325376044</td>\n",
       "      <td>49.159047</td>\n",
       "      <td>-118.186462</td>\n",
       "      <td>0</td>\n",
       "    </tr>\n",
       "    <tr>\n",
       "      <th>1</th>\n",
       "      <td>2019-01-01 00:12:34</td>\n",
       "      <td>4956828990005111019</td>\n",
       "      <td>fraud_Schultz, Simonis and Little</td>\n",
       "      <td>grocery_pos</td>\n",
       "      <td>44.71</td>\n",
       "      <td>Kenneth</td>\n",
       "      <td>Robinson</td>\n",
       "      <td>M</td>\n",
       "      <td>269 Sanchez Rapids</td>\n",
       "      <td>Elizabeth</td>\n",
       "      <td>NJ</td>\n",
       "      <td>7208</td>\n",
       "      <td>40.6747</td>\n",
       "      <td>-74.2239</td>\n",
       "      <td>124967</td>\n",
       "      <td>Operational researcher</td>\n",
       "      <td>1980-12-21</td>\n",
       "      <td>09eff9c806365e2a6be12c1bbab3d70e</td>\n",
       "      <td>1325376754</td>\n",
       "      <td>40.079588</td>\n",
       "      <td>-74.848087</td>\n",
       "      <td>0</td>\n",
       "    </tr>\n",
       "    <tr>\n",
       "      <th>2</th>\n",
       "      <td>2019-01-01 00:17:16</td>\n",
       "      <td>180048185037117</td>\n",
       "      <td>fraud_Kling-Grant</td>\n",
       "      <td>grocery_net</td>\n",
       "      <td>46.28</td>\n",
       "      <td>Mary</td>\n",
       "      <td>Wall</td>\n",
       "      <td>F</td>\n",
       "      <td>2481 Mills Lock</td>\n",
       "      <td>Plainfield</td>\n",
       "      <td>NJ</td>\n",
       "      <td>7060</td>\n",
       "      <td>40.6152</td>\n",
       "      <td>-74.4150</td>\n",
       "      <td>71485</td>\n",
       "      <td>Leisure centre manager</td>\n",
       "      <td>1974-07-19</td>\n",
       "      <td>19e23c6a300c774354417befe4f31f8c</td>\n",
       "      <td>1325377036</td>\n",
       "      <td>40.021888</td>\n",
       "      <td>-74.228188</td>\n",
       "      <td>0</td>\n",
       "    </tr>\n",
       "    <tr>\n",
       "      <th>3</th>\n",
       "      <td>2019-01-01 00:20:15</td>\n",
       "      <td>374930071163758</td>\n",
       "      <td>fraud_Deckow-O'Conner</td>\n",
       "      <td>grocery_pos</td>\n",
       "      <td>64.09</td>\n",
       "      <td>Daniel</td>\n",
       "      <td>Escobar</td>\n",
       "      <td>M</td>\n",
       "      <td>61390 Hayes Port</td>\n",
       "      <td>Romulus</td>\n",
       "      <td>MI</td>\n",
       "      <td>48174</td>\n",
       "      <td>42.2203</td>\n",
       "      <td>-83.3583</td>\n",
       "      <td>31515</td>\n",
       "      <td>Police officer</td>\n",
       "      <td>1971-11-05</td>\n",
       "      <td>6f363661ba6b55889e488dd178f2a0af</td>\n",
       "      <td>1325377215</td>\n",
       "      <td>42.360426</td>\n",
       "      <td>-83.552316</td>\n",
       "      <td>0</td>\n",
       "    </tr>\n",
       "    <tr>\n",
       "      <th>4</th>\n",
       "      <td>2019-01-01 00:23:41</td>\n",
       "      <td>2712209726293386</td>\n",
       "      <td>fraud_Balistreri-Nader</td>\n",
       "      <td>misc_pos</td>\n",
       "      <td>25.58</td>\n",
       "      <td>Jenna</td>\n",
       "      <td>Brooks</td>\n",
       "      <td>F</td>\n",
       "      <td>50872 Alex Plain Suite 088</td>\n",
       "      <td>Baton Rouge</td>\n",
       "      <td>LA</td>\n",
       "      <td>70808</td>\n",
       "      <td>30.4066</td>\n",
       "      <td>-91.1468</td>\n",
       "      <td>378909</td>\n",
       "      <td>Designer, furniture</td>\n",
       "      <td>1977-02-22</td>\n",
       "      <td>1654da2abfb9e79a5f99167fc9779558</td>\n",
       "      <td>1325377421</td>\n",
       "      <td>29.737426</td>\n",
       "      <td>-90.853194</td>\n",
       "      <td>0</td>\n",
       "    </tr>\n",
       "  </tbody>\n",
       "</table>\n",
       "</div>"
      ],
      "text/plain": [
       "  trans_date_trans_time               cc_num  \\\n",
       "0   2019-01-01 00:00:44         630423337322   \n",
       "1   2019-01-01 00:12:34  4956828990005111019   \n",
       "2   2019-01-01 00:17:16      180048185037117   \n",
       "3   2019-01-01 00:20:15      374930071163758   \n",
       "4   2019-01-01 00:23:41     2712209726293386   \n",
       "\n",
       "                            merchant     category     amt      first  \\\n",
       "0    fraud_Heller, Gutmann and Zieme  grocery_pos  107.23  Stephanie   \n",
       "1  fraud_Schultz, Simonis and Little  grocery_pos   44.71    Kenneth   \n",
       "2                  fraud_Kling-Grant  grocery_net   46.28       Mary   \n",
       "3              fraud_Deckow-O'Conner  grocery_pos   64.09     Daniel   \n",
       "4             fraud_Balistreri-Nader     misc_pos   25.58      Jenna   \n",
       "\n",
       "       last gender                        street         city state    zip  \\\n",
       "0      Gill      F  43039 Riley Greens Suite 393       Orient    WA  99160   \n",
       "1  Robinson      M            269 Sanchez Rapids    Elizabeth    NJ   7208   \n",
       "2      Wall      F               2481 Mills Lock   Plainfield    NJ   7060   \n",
       "3   Escobar      M              61390 Hayes Port      Romulus    MI  48174   \n",
       "4    Brooks      F    50872 Alex Plain Suite 088  Baton Rouge    LA  70808   \n",
       "\n",
       "       lat      long  city_pop                                job         dob  \\\n",
       "0  48.8878 -118.2105       149  Special educational needs teacher  1978-06-21   \n",
       "1  40.6747  -74.2239    124967             Operational researcher  1980-12-21   \n",
       "2  40.6152  -74.4150     71485             Leisure centre manager  1974-07-19   \n",
       "3  42.2203  -83.3583     31515                     Police officer  1971-11-05   \n",
       "4  30.4066  -91.1468    378909                Designer, furniture  1977-02-22   \n",
       "\n",
       "                          trans_num   unix_time  merch_lat  merch_long  \\\n",
       "0  1f76529f8574734946361c461b024d99  1325376044  49.159047 -118.186462   \n",
       "1  09eff9c806365e2a6be12c1bbab3d70e  1325376754  40.079588  -74.848087   \n",
       "2  19e23c6a300c774354417befe4f31f8c  1325377036  40.021888  -74.228188   \n",
       "3  6f363661ba6b55889e488dd178f2a0af  1325377215  42.360426  -83.552316   \n",
       "4  1654da2abfb9e79a5f99167fc9779558  1325377421  29.737426  -90.853194   \n",
       "\n",
       "   is_fraud  \n",
       "0         0  \n",
       "1         0  \n",
       "2         0  \n",
       "3         0  \n",
       "4         0  "
      ]
     },
     "execution_count": 58,
     "metadata": {},
     "output_type": "execute_result"
    }
   ],
   "source": [
    "cc_df.head()"
   ]
  },
  {
   "cell_type": "code",
   "execution_count": 59,
   "id": "9387f56a",
   "metadata": {
    "id": "81685035",
    "outputId": "8bd6a9a5-507a-41b4-fe95-593637bd5708",
    "scrolled": false
   },
   "outputs": [
    {
     "name": "stdout",
     "output_type": "stream",
     "text": [
      "<class 'pandas.core.frame.DataFrame'>\n",
      "RangeIndex: 491134 entries, 0 to 491133\n",
      "Data columns (total 22 columns):\n",
      " #   Column                 Non-Null Count   Dtype  \n",
      "---  ------                 --------------   -----  \n",
      " 0   trans_date_trans_time  491134 non-null  object \n",
      " 1   cc_num                 491134 non-null  int64  \n",
      " 2   merchant               491134 non-null  object \n",
      " 3   category               491134 non-null  object \n",
      " 4   amt                    491134 non-null  float64\n",
      " 5   first                  491134 non-null  object \n",
      " 6   last                   491134 non-null  object \n",
      " 7   gender                 491134 non-null  object \n",
      " 8   street                 491134 non-null  object \n",
      " 9   city                   491134 non-null  object \n",
      " 10  state                  491134 non-null  object \n",
      " 11  zip                    491134 non-null  int64  \n",
      " 12  lat                    491134 non-null  float64\n",
      " 13  long                   491134 non-null  float64\n",
      " 14  city_pop               491134 non-null  int64  \n",
      " 15  job                    491134 non-null  object \n",
      " 16  dob                    491134 non-null  object \n",
      " 17  trans_num              491134 non-null  object \n",
      " 18  unix_time              491134 non-null  int64  \n",
      " 19  merch_lat              491134 non-null  float64\n",
      " 20  merch_long             491134 non-null  float64\n",
      " 21  is_fraud               491134 non-null  int64  \n",
      "dtypes: float64(5), int64(5), object(12)\n",
      "memory usage: 82.4+ MB\n"
     ]
    }
   ],
   "source": [
    "cc_df.info()"
   ]
  },
  {
   "cell_type": "code",
   "execution_count": 60,
   "id": "71552876",
   "metadata": {
    "id": "494d8d52",
    "outputId": "ee103383-1137-47a7-853c-d2478ef7cc91",
    "scrolled": true
   },
   "outputs": [
    {
     "data": {
      "text/html": [
       "<div>\n",
       "<style scoped>\n",
       "    .dataframe tbody tr th:only-of-type {\n",
       "        vertical-align: middle;\n",
       "    }\n",
       "\n",
       "    .dataframe tbody tr th {\n",
       "        vertical-align: top;\n",
       "    }\n",
       "\n",
       "    .dataframe thead th {\n",
       "        text-align: right;\n",
       "    }\n",
       "</style>\n",
       "<table border=\"1\" class=\"dataframe\">\n",
       "  <thead>\n",
       "    <tr style=\"text-align: right;\">\n",
       "      <th></th>\n",
       "      <th>cc_num</th>\n",
       "      <th>amt</th>\n",
       "      <th>zip</th>\n",
       "      <th>lat</th>\n",
       "      <th>long</th>\n",
       "      <th>city_pop</th>\n",
       "      <th>unix_time</th>\n",
       "      <th>merch_lat</th>\n",
       "      <th>merch_long</th>\n",
       "      <th>is_fraud</th>\n",
       "    </tr>\n",
       "  </thead>\n",
       "  <tbody>\n",
       "    <tr>\n",
       "      <th>count</th>\n",
       "      <td>4.911340e+05</td>\n",
       "      <td>491134.000000</td>\n",
       "      <td>491134.000000</td>\n",
       "      <td>491134.000000</td>\n",
       "      <td>491134.000000</td>\n",
       "      <td>4.911340e+05</td>\n",
       "      <td>4.911340e+05</td>\n",
       "      <td>491134.000000</td>\n",
       "      <td>491134.000000</td>\n",
       "      <td>491134.000000</td>\n",
       "    </tr>\n",
       "    <tr>\n",
       "      <th>mean</th>\n",
       "      <td>3.706013e+17</td>\n",
       "      <td>69.050120</td>\n",
       "      <td>50770.532384</td>\n",
       "      <td>37.931230</td>\n",
       "      <td>-90.495619</td>\n",
       "      <td>1.213922e+05</td>\n",
       "      <td>1.358730e+09</td>\n",
       "      <td>37.930272</td>\n",
       "      <td>-90.495411</td>\n",
       "      <td>0.002533</td>\n",
       "    </tr>\n",
       "    <tr>\n",
       "      <th>std</th>\n",
       "      <td>1.260229e+18</td>\n",
       "      <td>160.322867</td>\n",
       "      <td>26854.947965</td>\n",
       "      <td>5.341193</td>\n",
       "      <td>12.990732</td>\n",
       "      <td>3.725751e+05</td>\n",
       "      <td>1.819402e+07</td>\n",
       "      <td>5.372986</td>\n",
       "      <td>13.004100</td>\n",
       "      <td>0.050264</td>\n",
       "    </tr>\n",
       "    <tr>\n",
       "      <th>min</th>\n",
       "      <td>5.038744e+11</td>\n",
       "      <td>1.000000</td>\n",
       "      <td>1843.000000</td>\n",
       "      <td>24.655700</td>\n",
       "      <td>-122.345600</td>\n",
       "      <td>4.600000e+01</td>\n",
       "      <td>1.325376e+09</td>\n",
       "      <td>23.655789</td>\n",
       "      <td>-123.345106</td>\n",
       "      <td>0.000000</td>\n",
       "    </tr>\n",
       "    <tr>\n",
       "      <th>25%</th>\n",
       "      <td>2.131124e+14</td>\n",
       "      <td>8.960000</td>\n",
       "      <td>28405.000000</td>\n",
       "      <td>33.746700</td>\n",
       "      <td>-97.235100</td>\n",
       "      <td>1.228000e+03</td>\n",
       "      <td>1.343087e+09</td>\n",
       "      <td>33.781388</td>\n",
       "      <td>-96.984814</td>\n",
       "      <td>0.000000</td>\n",
       "    </tr>\n",
       "    <tr>\n",
       "      <th>50%</th>\n",
       "      <td>3.531130e+15</td>\n",
       "      <td>42.170000</td>\n",
       "      <td>49628.000000</td>\n",
       "      <td>38.507200</td>\n",
       "      <td>-87.591700</td>\n",
       "      <td>5.760000e+03</td>\n",
       "      <td>1.357257e+09</td>\n",
       "      <td>38.545124</td>\n",
       "      <td>-87.573441</td>\n",
       "      <td>0.000000</td>\n",
       "    </tr>\n",
       "    <tr>\n",
       "      <th>75%</th>\n",
       "      <td>4.653879e+15</td>\n",
       "      <td>80.330000</td>\n",
       "      <td>75048.000000</td>\n",
       "      <td>41.520500</td>\n",
       "      <td>-80.731000</td>\n",
       "      <td>5.083500e+04</td>\n",
       "      <td>1.374626e+09</td>\n",
       "      <td>41.624294</td>\n",
       "      <td>-80.685567</td>\n",
       "      <td>0.000000</td>\n",
       "    </tr>\n",
       "    <tr>\n",
       "      <th>max</th>\n",
       "      <td>4.956829e+18</td>\n",
       "      <td>25086.940000</td>\n",
       "      <td>99323.000000</td>\n",
       "      <td>48.887800</td>\n",
       "      <td>-69.965600</td>\n",
       "      <td>2.906700e+06</td>\n",
       "      <td>1.388534e+09</td>\n",
       "      <td>49.887523</td>\n",
       "      <td>-68.965624</td>\n",
       "      <td>1.000000</td>\n",
       "    </tr>\n",
       "  </tbody>\n",
       "</table>\n",
       "</div>"
      ],
      "text/plain": [
       "             cc_num            amt            zip            lat  \\\n",
       "count  4.911340e+05  491134.000000  491134.000000  491134.000000   \n",
       "mean   3.706013e+17      69.050120   50770.532384      37.931230   \n",
       "std    1.260229e+18     160.322867   26854.947965       5.341193   \n",
       "min    5.038744e+11       1.000000    1843.000000      24.655700   \n",
       "25%    2.131124e+14       8.960000   28405.000000      33.746700   \n",
       "50%    3.531130e+15      42.170000   49628.000000      38.507200   \n",
       "75%    4.653879e+15      80.330000   75048.000000      41.520500   \n",
       "max    4.956829e+18   25086.940000   99323.000000      48.887800   \n",
       "\n",
       "                long      city_pop     unix_time      merch_lat  \\\n",
       "count  491134.000000  4.911340e+05  4.911340e+05  491134.000000   \n",
       "mean      -90.495619  1.213922e+05  1.358730e+09      37.930272   \n",
       "std        12.990732  3.725751e+05  1.819402e+07       5.372986   \n",
       "min      -122.345600  4.600000e+01  1.325376e+09      23.655789   \n",
       "25%       -97.235100  1.228000e+03  1.343087e+09      33.781388   \n",
       "50%       -87.591700  5.760000e+03  1.357257e+09      38.545124   \n",
       "75%       -80.731000  5.083500e+04  1.374626e+09      41.624294   \n",
       "max       -69.965600  2.906700e+06  1.388534e+09      49.887523   \n",
       "\n",
       "          merch_long       is_fraud  \n",
       "count  491134.000000  491134.000000  \n",
       "mean      -90.495411       0.002533  \n",
       "std        13.004100       0.050264  \n",
       "min      -123.345106       0.000000  \n",
       "25%       -96.984814       0.000000  \n",
       "50%       -87.573441       0.000000  \n",
       "75%       -80.685567       0.000000  \n",
       "max       -68.965624       1.000000  "
      ]
     },
     "execution_count": 60,
     "metadata": {},
     "output_type": "execute_result"
    }
   ],
   "source": [
    "cc_df.describe()"
   ]
  },
  {
   "cell_type": "code",
   "execution_count": 61,
   "id": "e829dacc",
   "metadata": {},
   "outputs": [
    {
     "data": {
      "text/html": [
       "<div>\n",
       "<style scoped>\n",
       "    .dataframe tbody tr th:only-of-type {\n",
       "        vertical-align: middle;\n",
       "    }\n",
       "\n",
       "    .dataframe tbody tr th {\n",
       "        vertical-align: top;\n",
       "    }\n",
       "\n",
       "    .dataframe thead th {\n",
       "        text-align: right;\n",
       "    }\n",
       "</style>\n",
       "<table border=\"1\" class=\"dataframe\">\n",
       "  <thead>\n",
       "    <tr style=\"text-align: right;\">\n",
       "      <th></th>\n",
       "      <th>trans_date_trans_time</th>\n",
       "      <th>cc_num</th>\n",
       "      <th>merchant</th>\n",
       "      <th>category</th>\n",
       "      <th>amt</th>\n",
       "      <th>first</th>\n",
       "      <th>last</th>\n",
       "      <th>gender</th>\n",
       "      <th>street</th>\n",
       "      <th>city</th>\n",
       "      <th>state</th>\n",
       "      <th>zip</th>\n",
       "      <th>lat</th>\n",
       "      <th>long</th>\n",
       "      <th>city_pop</th>\n",
       "      <th>job</th>\n",
       "      <th>dob</th>\n",
       "      <th>trans_num</th>\n",
       "      <th>unix_time</th>\n",
       "      <th>merch_lat</th>\n",
       "      <th>merch_long</th>\n",
       "      <th>is_fraud</th>\n",
       "    </tr>\n",
       "  </thead>\n",
       "  <tbody>\n",
       "    <tr>\n",
       "      <th>0</th>\n",
       "      <td>2019-01-01 00:00:44</td>\n",
       "      <td>630423337322</td>\n",
       "      <td>fraud_Heller, Gutmann and Zieme</td>\n",
       "      <td>grocery_pos</td>\n",
       "      <td>107.23</td>\n",
       "      <td>Stephanie</td>\n",
       "      <td>Gill</td>\n",
       "      <td>F</td>\n",
       "      <td>43039 Riley Greens Suite 393</td>\n",
       "      <td>Orient</td>\n",
       "      <td>WA</td>\n",
       "      <td>99160</td>\n",
       "      <td>48.8878</td>\n",
       "      <td>-118.2105</td>\n",
       "      <td>149</td>\n",
       "      <td>Special educational needs teacher</td>\n",
       "      <td>1978-06-21</td>\n",
       "      <td>1f76529f8574734946361c461b024d99</td>\n",
       "      <td>1325376044</td>\n",
       "      <td>49.159047</td>\n",
       "      <td>-118.186462</td>\n",
       "      <td>0</td>\n",
       "    </tr>\n",
       "    <tr>\n",
       "      <th>1</th>\n",
       "      <td>2019-01-01 00:12:34</td>\n",
       "      <td>4956828990005111019</td>\n",
       "      <td>fraud_Schultz, Simonis and Little</td>\n",
       "      <td>grocery_pos</td>\n",
       "      <td>44.71</td>\n",
       "      <td>Kenneth</td>\n",
       "      <td>Robinson</td>\n",
       "      <td>M</td>\n",
       "      <td>269 Sanchez Rapids</td>\n",
       "      <td>Elizabeth</td>\n",
       "      <td>NJ</td>\n",
       "      <td>7208</td>\n",
       "      <td>40.6747</td>\n",
       "      <td>-74.2239</td>\n",
       "      <td>124967</td>\n",
       "      <td>Operational researcher</td>\n",
       "      <td>1980-12-21</td>\n",
       "      <td>09eff9c806365e2a6be12c1bbab3d70e</td>\n",
       "      <td>1325376754</td>\n",
       "      <td>40.079588</td>\n",
       "      <td>-74.848087</td>\n",
       "      <td>0</td>\n",
       "    </tr>\n",
       "    <tr>\n",
       "      <th>2</th>\n",
       "      <td>2019-01-01 00:17:16</td>\n",
       "      <td>180048185037117</td>\n",
       "      <td>fraud_Kling-Grant</td>\n",
       "      <td>grocery_net</td>\n",
       "      <td>46.28</td>\n",
       "      <td>Mary</td>\n",
       "      <td>Wall</td>\n",
       "      <td>F</td>\n",
       "      <td>2481 Mills Lock</td>\n",
       "      <td>Plainfield</td>\n",
       "      <td>NJ</td>\n",
       "      <td>7060</td>\n",
       "      <td>40.6152</td>\n",
       "      <td>-74.4150</td>\n",
       "      <td>71485</td>\n",
       "      <td>Leisure centre manager</td>\n",
       "      <td>1974-07-19</td>\n",
       "      <td>19e23c6a300c774354417befe4f31f8c</td>\n",
       "      <td>1325377036</td>\n",
       "      <td>40.021888</td>\n",
       "      <td>-74.228188</td>\n",
       "      <td>0</td>\n",
       "    </tr>\n",
       "  </tbody>\n",
       "</table>\n",
       "</div>"
      ],
      "text/plain": [
       "  trans_date_trans_time               cc_num  \\\n",
       "0   2019-01-01 00:00:44         630423337322   \n",
       "1   2019-01-01 00:12:34  4956828990005111019   \n",
       "2   2019-01-01 00:17:16      180048185037117   \n",
       "\n",
       "                            merchant     category     amt      first  \\\n",
       "0    fraud_Heller, Gutmann and Zieme  grocery_pos  107.23  Stephanie   \n",
       "1  fraud_Schultz, Simonis and Little  grocery_pos   44.71    Kenneth   \n",
       "2                  fraud_Kling-Grant  grocery_net   46.28       Mary   \n",
       "\n",
       "       last gender                        street        city state    zip  \\\n",
       "0      Gill      F  43039 Riley Greens Suite 393      Orient    WA  99160   \n",
       "1  Robinson      M            269 Sanchez Rapids   Elizabeth    NJ   7208   \n",
       "2      Wall      F               2481 Mills Lock  Plainfield    NJ   7060   \n",
       "\n",
       "       lat      long  city_pop                                job         dob  \\\n",
       "0  48.8878 -118.2105       149  Special educational needs teacher  1978-06-21   \n",
       "1  40.6747  -74.2239    124967             Operational researcher  1980-12-21   \n",
       "2  40.6152  -74.4150     71485             Leisure centre manager  1974-07-19   \n",
       "\n",
       "                          trans_num   unix_time  merch_lat  merch_long  \\\n",
       "0  1f76529f8574734946361c461b024d99  1325376044  49.159047 -118.186462   \n",
       "1  09eff9c806365e2a6be12c1bbab3d70e  1325376754  40.079588  -74.848087   \n",
       "2  19e23c6a300c774354417befe4f31f8c  1325377036  40.021888  -74.228188   \n",
       "\n",
       "   is_fraud  \n",
       "0         0  \n",
       "1         0  \n",
       "2         0  "
      ]
     },
     "execution_count": 61,
     "metadata": {},
     "output_type": "execute_result"
    }
   ],
   "source": [
    "cc_df.head(3)"
   ]
  },
  {
   "cell_type": "code",
   "execution_count": 62,
   "id": "b5f0ca7f",
   "metadata": {
    "scrolled": false
   },
   "outputs": [
    {
     "data": {
      "text/plain": [
       "693"
      ]
     },
     "execution_count": 62,
     "metadata": {},
     "output_type": "execute_result"
    }
   ],
   "source": [
    "cc_df['merchant'].nunique()"
   ]
  },
  {
   "cell_type": "code",
   "execution_count": 63,
   "id": "7eb50812",
   "metadata": {
    "scrolled": true
   },
   "outputs": [
    {
     "data": {
      "text/plain": [
       "110"
      ]
     },
     "execution_count": 63,
     "metadata": {},
     "output_type": "execute_result"
    }
   ],
   "source": [
    "cc_df['job'].nunique()"
   ]
  },
  {
   "cell_type": "code",
   "execution_count": 64,
   "id": "648b1a9b",
   "metadata": {
    "scrolled": false
   },
   "outputs": [
    {
     "data": {
      "text/plain": [
       "124"
      ]
     },
     "execution_count": 64,
     "metadata": {},
     "output_type": "execute_result"
    }
   ],
   "source": [
    "cc_df['cc_num'].nunique()"
   ]
  },
  {
   "cell_type": "code",
   "execution_count": 65,
   "id": "1e89691b",
   "metadata": {},
   "outputs": [],
   "source": [
    "cc_df.drop(['merchant','first','last','street','city','state','zip','job','trans_num','unix_time'], axis = 1, inplace= True)"
   ]
  },
  {
   "cell_type": "code",
   "execution_count": 66,
   "id": "1e9e18ec",
   "metadata": {
    "scrolled": false
   },
   "outputs": [
    {
     "data": {
      "text/html": [
       "<div>\n",
       "<style scoped>\n",
       "    .dataframe tbody tr th:only-of-type {\n",
       "        vertical-align: middle;\n",
       "    }\n",
       "\n",
       "    .dataframe tbody tr th {\n",
       "        vertical-align: top;\n",
       "    }\n",
       "\n",
       "    .dataframe thead th {\n",
       "        text-align: right;\n",
       "    }\n",
       "</style>\n",
       "<table border=\"1\" class=\"dataframe\">\n",
       "  <thead>\n",
       "    <tr style=\"text-align: right;\">\n",
       "      <th></th>\n",
       "      <th>trans_date_trans_time</th>\n",
       "      <th>cc_num</th>\n",
       "      <th>category</th>\n",
       "      <th>amt</th>\n",
       "      <th>gender</th>\n",
       "      <th>lat</th>\n",
       "      <th>long</th>\n",
       "      <th>city_pop</th>\n",
       "      <th>dob</th>\n",
       "      <th>merch_lat</th>\n",
       "      <th>merch_long</th>\n",
       "      <th>is_fraud</th>\n",
       "    </tr>\n",
       "  </thead>\n",
       "  <tbody>\n",
       "    <tr>\n",
       "      <th>378075</th>\n",
       "      <td>2020-08-05 17:03:19</td>\n",
       "      <td>503874407318</td>\n",
       "      <td>shopping_pos</td>\n",
       "      <td>7.77</td>\n",
       "      <td>M</td>\n",
       "      <td>29.5894</td>\n",
       "      <td>-98.5201</td>\n",
       "      <td>1595797</td>\n",
       "      <td>1975-12-28</td>\n",
       "      <td>30.014539</td>\n",
       "      <td>-98.426767</td>\n",
       "      <td>0</td>\n",
       "    </tr>\n",
       "    <tr>\n",
       "      <th>230588</th>\n",
       "      <td>2019-12-20 22:21:36</td>\n",
       "      <td>503874407318</td>\n",
       "      <td>health_fitness</td>\n",
       "      <td>72.06</td>\n",
       "      <td>M</td>\n",
       "      <td>29.5894</td>\n",
       "      <td>-98.5201</td>\n",
       "      <td>1595797</td>\n",
       "      <td>1975-12-28</td>\n",
       "      <td>29.260487</td>\n",
       "      <td>-97.961746</td>\n",
       "      <td>0</td>\n",
       "    </tr>\n",
       "    <tr>\n",
       "      <th>421413</th>\n",
       "      <td>2020-10-10 12:39:32</td>\n",
       "      <td>503874407318</td>\n",
       "      <td>misc_pos</td>\n",
       "      <td>4.78</td>\n",
       "      <td>M</td>\n",
       "      <td>29.5894</td>\n",
       "      <td>-98.5201</td>\n",
       "      <td>1595797</td>\n",
       "      <td>1975-12-28</td>\n",
       "      <td>29.116928</td>\n",
       "      <td>-99.258936</td>\n",
       "      <td>0</td>\n",
       "    </tr>\n",
       "    <tr>\n",
       "      <th>468378</th>\n",
       "      <td>2020-12-13 15:55:44</td>\n",
       "      <td>503874407318</td>\n",
       "      <td>kids_pets</td>\n",
       "      <td>84.56</td>\n",
       "      <td>M</td>\n",
       "      <td>29.5894</td>\n",
       "      <td>-98.5201</td>\n",
       "      <td>1595797</td>\n",
       "      <td>1975-12-28</td>\n",
       "      <td>29.994537</td>\n",
       "      <td>-98.441297</td>\n",
       "      <td>0</td>\n",
       "    </tr>\n",
       "    <tr>\n",
       "      <th>345085</th>\n",
       "      <td>2020-06-22 23:52:06</td>\n",
       "      <td>503874407318</td>\n",
       "      <td>entertainment</td>\n",
       "      <td>24.33</td>\n",
       "      <td>M</td>\n",
       "      <td>29.5894</td>\n",
       "      <td>-98.5201</td>\n",
       "      <td>1595797</td>\n",
       "      <td>1975-12-28</td>\n",
       "      <td>29.277168</td>\n",
       "      <td>-98.239289</td>\n",
       "      <td>0</td>\n",
       "    </tr>\n",
       "    <tr>\n",
       "      <th>...</th>\n",
       "      <td>...</td>\n",
       "      <td>...</td>\n",
       "      <td>...</td>\n",
       "      <td>...</td>\n",
       "      <td>...</td>\n",
       "      <td>...</td>\n",
       "      <td>...</td>\n",
       "      <td>...</td>\n",
       "      <td>...</td>\n",
       "      <td>...</td>\n",
       "      <td>...</td>\n",
       "      <td>...</td>\n",
       "    </tr>\n",
       "    <tr>\n",
       "      <th>53631</th>\n",
       "      <td>2019-04-14 16:57:31</td>\n",
       "      <td>4956828990005111019</td>\n",
       "      <td>entertainment</td>\n",
       "      <td>27.41</td>\n",
       "      <td>M</td>\n",
       "      <td>40.6747</td>\n",
       "      <td>-74.2239</td>\n",
       "      <td>124967</td>\n",
       "      <td>1980-12-21</td>\n",
       "      <td>39.888460</td>\n",
       "      <td>-74.151440</td>\n",
       "      <td>0</td>\n",
       "    </tr>\n",
       "    <tr>\n",
       "      <th>485223</th>\n",
       "      <td>2020-12-27 14:14:40</td>\n",
       "      <td>4956828990005111019</td>\n",
       "      <td>home</td>\n",
       "      <td>28.52</td>\n",
       "      <td>M</td>\n",
       "      <td>40.6747</td>\n",
       "      <td>-74.2239</td>\n",
       "      <td>124967</td>\n",
       "      <td>1980-12-21</td>\n",
       "      <td>41.068207</td>\n",
       "      <td>-75.015316</td>\n",
       "      <td>0</td>\n",
       "    </tr>\n",
       "    <tr>\n",
       "      <th>264968</th>\n",
       "      <td>2020-02-15 13:32:48</td>\n",
       "      <td>4956828990005111019</td>\n",
       "      <td>shopping_pos</td>\n",
       "      <td>2.95</td>\n",
       "      <td>M</td>\n",
       "      <td>40.6747</td>\n",
       "      <td>-74.2239</td>\n",
       "      <td>124967</td>\n",
       "      <td>1980-12-21</td>\n",
       "      <td>41.435438</td>\n",
       "      <td>-73.839008</td>\n",
       "      <td>0</td>\n",
       "    </tr>\n",
       "    <tr>\n",
       "      <th>63475</th>\n",
       "      <td>2019-04-30 17:45:09</td>\n",
       "      <td>4956828990005111019</td>\n",
       "      <td>shopping_pos</td>\n",
       "      <td>7.28</td>\n",
       "      <td>M</td>\n",
       "      <td>40.6747</td>\n",
       "      <td>-74.2239</td>\n",
       "      <td>124967</td>\n",
       "      <td>1980-12-21</td>\n",
       "      <td>41.149072</td>\n",
       "      <td>-75.143152</td>\n",
       "      <td>0</td>\n",
       "    </tr>\n",
       "    <tr>\n",
       "      <th>450904</th>\n",
       "      <td>2020-11-28 12:12:27</td>\n",
       "      <td>4956828990005111019</td>\n",
       "      <td>food_dining</td>\n",
       "      <td>16.22</td>\n",
       "      <td>M</td>\n",
       "      <td>40.6747</td>\n",
       "      <td>-74.2239</td>\n",
       "      <td>124967</td>\n",
       "      <td>1980-12-21</td>\n",
       "      <td>39.933227</td>\n",
       "      <td>-73.659492</td>\n",
       "      <td>0</td>\n",
       "    </tr>\n",
       "  </tbody>\n",
       "</table>\n",
       "<p>491134 rows × 12 columns</p>\n",
       "</div>"
      ],
      "text/plain": [
       "       trans_date_trans_time               cc_num        category    amt  \\\n",
       "378075   2020-08-05 17:03:19         503874407318    shopping_pos   7.77   \n",
       "230588   2019-12-20 22:21:36         503874407318  health_fitness  72.06   \n",
       "421413   2020-10-10 12:39:32         503874407318        misc_pos   4.78   \n",
       "468378   2020-12-13 15:55:44         503874407318       kids_pets  84.56   \n",
       "345085   2020-06-22 23:52:06         503874407318   entertainment  24.33   \n",
       "...                      ...                  ...             ...    ...   \n",
       "53631    2019-04-14 16:57:31  4956828990005111019   entertainment  27.41   \n",
       "485223   2020-12-27 14:14:40  4956828990005111019            home  28.52   \n",
       "264968   2020-02-15 13:32:48  4956828990005111019    shopping_pos   2.95   \n",
       "63475    2019-04-30 17:45:09  4956828990005111019    shopping_pos   7.28   \n",
       "450904   2020-11-28 12:12:27  4956828990005111019     food_dining  16.22   \n",
       "\n",
       "       gender      lat     long  city_pop         dob  merch_lat  merch_long  \\\n",
       "378075      M  29.5894 -98.5201   1595797  1975-12-28  30.014539  -98.426767   \n",
       "230588      M  29.5894 -98.5201   1595797  1975-12-28  29.260487  -97.961746   \n",
       "421413      M  29.5894 -98.5201   1595797  1975-12-28  29.116928  -99.258936   \n",
       "468378      M  29.5894 -98.5201   1595797  1975-12-28  29.994537  -98.441297   \n",
       "345085      M  29.5894 -98.5201   1595797  1975-12-28  29.277168  -98.239289   \n",
       "...       ...      ...      ...       ...         ...        ...         ...   \n",
       "53631       M  40.6747 -74.2239    124967  1980-12-21  39.888460  -74.151440   \n",
       "485223      M  40.6747 -74.2239    124967  1980-12-21  41.068207  -75.015316   \n",
       "264968      M  40.6747 -74.2239    124967  1980-12-21  41.435438  -73.839008   \n",
       "63475       M  40.6747 -74.2239    124967  1980-12-21  41.149072  -75.143152   \n",
       "450904      M  40.6747 -74.2239    124967  1980-12-21  39.933227  -73.659492   \n",
       "\n",
       "        is_fraud  \n",
       "378075         0  \n",
       "230588         0  \n",
       "421413         0  \n",
       "468378         0  \n",
       "345085         0  \n",
       "...          ...  \n",
       "53631          0  \n",
       "485223         0  \n",
       "264968         0  \n",
       "63475          0  \n",
       "450904         0  \n",
       "\n",
       "[491134 rows x 12 columns]"
      ]
     },
     "execution_count": 66,
     "metadata": {},
     "output_type": "execute_result"
    }
   ],
   "source": [
    "cc_df.sort_values('cc_num')"
   ]
  },
  {
   "cell_type": "code",
   "execution_count": 67,
   "id": "8fe92427",
   "metadata": {
    "scrolled": false
   },
   "outputs": [
    {
     "data": {
      "text/html": [
       "<div>\n",
       "<style scoped>\n",
       "    .dataframe tbody tr th:only-of-type {\n",
       "        vertical-align: middle;\n",
       "    }\n",
       "\n",
       "    .dataframe tbody tr th {\n",
       "        vertical-align: top;\n",
       "    }\n",
       "\n",
       "    .dataframe thead th {\n",
       "        text-align: right;\n",
       "    }\n",
       "</style>\n",
       "<table border=\"1\" class=\"dataframe\">\n",
       "  <thead>\n",
       "    <tr style=\"text-align: right;\">\n",
       "      <th></th>\n",
       "      <th>a</th>\n",
       "      <th>b</th>\n",
       "      <th>c</th>\n",
       "    </tr>\n",
       "  </thead>\n",
       "  <tbody>\n",
       "    <tr>\n",
       "      <th>0</th>\n",
       "      <td>10</td>\n",
       "      <td>100</td>\n",
       "      <td>10</td>\n",
       "    </tr>\n",
       "    <tr>\n",
       "      <th>1</th>\n",
       "      <td>20</td>\n",
       "      <td>300</td>\n",
       "      <td>500</td>\n",
       "    </tr>\n",
       "    <tr>\n",
       "      <th>2</th>\n",
       "      <td>30</td>\n",
       "      <td>200</td>\n",
       "      <td>20</td>\n",
       "    </tr>\n",
       "    <tr>\n",
       "      <th>3</th>\n",
       "      <td>20</td>\n",
       "      <td>150</td>\n",
       "      <td>250</td>\n",
       "    </tr>\n",
       "    <tr>\n",
       "      <th>4</th>\n",
       "      <td>10</td>\n",
       "      <td>250</td>\n",
       "      <td>25</td>\n",
       "    </tr>\n",
       "    <tr>\n",
       "      <th>5</th>\n",
       "      <td>200</td>\n",
       "      <td>200</td>\n",
       "      <td>200</td>\n",
       "    </tr>\n",
       "  </tbody>\n",
       "</table>\n",
       "</div>"
      ],
      "text/plain": [
       "     a    b    c\n",
       "0   10  100   10\n",
       "1   20  300  500\n",
       "2   30  200   20\n",
       "3   20  150  250\n",
       "4   10  250   25\n",
       "5  200  200  200"
      ]
     },
     "execution_count": 67,
     "metadata": {},
     "output_type": "execute_result"
    }
   ],
   "source": [
    "temp = pd.DataFrame({'a': [10,20,30,20,10,200], 'b': [100,300,200,150,250,200], 'c': [10, 500, 20, 250, 25, 200]})\n",
    "temp"
   ]
  },
  {
   "cell_type": "code",
   "execution_count": 68,
   "id": "c7bc9ddc",
   "metadata": {
    "scrolled": true
   },
   "outputs": [
    {
     "data": {
      "text/plain": [
       "a     48.333333\n",
       "b    200.000000\n",
       "c    167.500000\n",
       "dtype: float64"
      ]
     },
     "execution_count": 68,
     "metadata": {},
     "output_type": "execute_result"
    }
   ],
   "source": [
    "temp.mean()"
   ]
  },
  {
   "cell_type": "code",
   "execution_count": 69,
   "id": "41a0bfab",
   "metadata": {
    "scrolled": true
   },
   "outputs": [
    {
     "data": {
      "text/plain": [
       "a     74.677083\n",
       "b     70.710678\n",
       "c    192.503247\n",
       "dtype: float64"
      ]
     },
     "execution_count": 69,
     "metadata": {},
     "output_type": "execute_result"
    }
   ],
   "source": [
    "temp.std()"
   ]
  },
  {
   "cell_type": "code",
   "execution_count": 70,
   "id": "5a3a74b7",
   "metadata": {
    "scrolled": true
   },
   "outputs": [
    {
     "data": {
      "text/plain": [
       "0   -0.513325\n",
       "1   -0.379403\n",
       "2   -0.245480\n",
       "3   -0.379403\n",
       "4   -0.513325\n",
       "5    2.031204\n",
       "Name: a, dtype: float64"
      ]
     },
     "execution_count": 70,
     "metadata": {},
     "output_type": "execute_result"
    }
   ],
   "source": [
    "(temp['a'] - 48.33) / 74.67"
   ]
  },
  {
   "cell_type": "code",
   "execution_count": 71,
   "id": "1df0d934",
   "metadata": {
    "scrolled": true
   },
   "outputs": [
    {
     "data": {
      "text/plain": [
       "0   -1.414227\n",
       "1    1.414227\n",
       "2    0.000000\n",
       "3   -0.707114\n",
       "4    0.707114\n",
       "5    0.000000\n",
       "Name: b, dtype: float64"
      ]
     },
     "execution_count": 71,
     "metadata": {},
     "output_type": "execute_result"
    }
   ],
   "source": [
    "(temp['b']-200)/70.71"
   ]
  },
  {
   "cell_type": "code",
   "execution_count": 72,
   "id": "58cb92ad",
   "metadata": {
    "scrolled": true
   },
   "outputs": [
    {
     "data": {
      "text/plain": [
       "0   -0.815584\n",
       "1    1.729870\n",
       "2   -0.763636\n",
       "3    0.431169\n",
       "4   -0.737662\n",
       "5    0.171429\n",
       "Name: c, dtype: float64"
      ]
     },
     "execution_count": 72,
     "metadata": {},
     "output_type": "execute_result"
    }
   ],
   "source": [
    "(temp['c']-167)/192.50"
   ]
  },
  {
   "cell_type": "code",
   "execution_count": 73,
   "id": "f2f0e085",
   "metadata": {
    "scrolled": true
   },
   "outputs": [
    {
     "data": {
      "text/plain": [
       "6538441737335434    4392\n",
       "30270432095985      4392\n",
       "4364010865167176    4386\n",
       "4642255475285942    4386\n",
       "6538891242532018    4386\n",
       "                    ... \n",
       "36913587729122      3641\n",
       "4681601008538160    3638\n",
       "30551643947183      3638\n",
       "4005676619255478    3638\n",
       "3511378610369890    3628\n",
       "Name: cc_num, Length: 124, dtype: int64"
      ]
     },
     "execution_count": 73,
     "metadata": {},
     "output_type": "execute_result"
    }
   ],
   "source": [
    "cc_df['cc_num'].value_counts()"
   ]
  },
  {
   "cell_type": "code",
   "execution_count": 74,
   "id": "425cd0ce",
   "metadata": {},
   "outputs": [],
   "source": [
    "amt_info = cc_df.groupby('cc_num')['amt'].agg(['mean','std']).reset_index()"
   ]
  },
  {
   "cell_type": "code",
   "execution_count": 75,
   "id": "0595c3ec",
   "metadata": {
    "scrolled": false
   },
   "outputs": [],
   "source": [
    "amt_info.to_pickle('./amt_info.pkl')"
   ]
  },
  {
   "cell_type": "code",
   "execution_count": 76,
   "id": "f4cc211d",
   "metadata": {},
   "outputs": [
    {
     "name": "stdout",
     "output_type": "stream",
     "text": [
      "trans_date_trans_time     object\n",
      "cc_num                     int64\n",
      "category                  object\n",
      "amt                      float64\n",
      "gender                    object\n",
      "lat                      float64\n",
      "long                     float64\n",
      "city_pop                   int64\n",
      "dob                       object\n",
      "merch_lat                float64\n",
      "merch_long               float64\n",
      "is_fraud                   int64\n",
      "dtype: object\n",
      "cc_num      int64\n",
      "mean      float64\n",
      "std       float64\n",
      "dtype: object\n"
     ]
    }
   ],
   "source": [
    "print(cc_df.dtypes)\n",
    "print(amt_info.dtypes)"
   ]
  },
  {
   "cell_type": "code",
   "execution_count": 77,
   "id": "605ef3e8",
   "metadata": {},
   "outputs": [
    {
     "name": "stdout",
     "output_type": "stream",
     "text": [
      "124\n",
      "124\n"
     ]
    }
   ],
   "source": [
    "print(amt_info['cc_num'].nunique())  # 고유 cc_num 수\n",
    "print(len(amt_info))   \n",
    "amt_info = amt_info.drop_duplicates(subset='cc_num')"
   ]
  },
  {
   "cell_type": "code",
   "execution_count": 78,
   "id": "ef0659ab",
   "metadata": {},
   "outputs": [],
   "source": [
    "cc_df=pd.merge(cc_df,amt_info, on='cc_num',how='left')"
   ]
  },
  {
   "cell_type": "code",
   "execution_count": 79,
   "id": "f41eff4d",
   "metadata": {},
   "outputs": [],
   "source": [
    "mean_=cc_df['amt'].mean()\n",
    "std_=cc_df['amt'].std()\n",
    "cc_df['amt_z']=(cc_df['amt']-mean_)/std_"
   ]
  },
  {
   "cell_type": "code",
   "execution_count": 80,
   "id": "7701267a",
   "metadata": {},
   "outputs": [
    {
     "data": {
      "text/html": [
       "<div>\n",
       "<style scoped>\n",
       "    .dataframe tbody tr th:only-of-type {\n",
       "        vertical-align: middle;\n",
       "    }\n",
       "\n",
       "    .dataframe tbody tr th {\n",
       "        vertical-align: top;\n",
       "    }\n",
       "\n",
       "    .dataframe thead th {\n",
       "        text-align: right;\n",
       "    }\n",
       "</style>\n",
       "<table border=\"1\" class=\"dataframe\">\n",
       "  <thead>\n",
       "    <tr style=\"text-align: right;\">\n",
       "      <th></th>\n",
       "      <th>trans_date_trans_time</th>\n",
       "      <th>cc_num</th>\n",
       "      <th>category</th>\n",
       "      <th>amt</th>\n",
       "      <th>gender</th>\n",
       "      <th>lat</th>\n",
       "      <th>long</th>\n",
       "      <th>city_pop</th>\n",
       "      <th>dob</th>\n",
       "      <th>merch_lat</th>\n",
       "      <th>merch_long</th>\n",
       "      <th>is_fraud</th>\n",
       "      <th>mean</th>\n",
       "      <th>std</th>\n",
       "      <th>amt_z</th>\n",
       "    </tr>\n",
       "  </thead>\n",
       "  <tbody>\n",
       "    <tr>\n",
       "      <th>4794</th>\n",
       "      <td>2019-01-12 00:59:01</td>\n",
       "      <td>581686439828</td>\n",
       "      <td>gas_transport</td>\n",
       "      <td>11.73</td>\n",
       "      <td>M</td>\n",
       "      <td>41.5205</td>\n",
       "      <td>-80.0573</td>\n",
       "      <td>5507</td>\n",
       "      <td>1973-07-28</td>\n",
       "      <td>41.947427</td>\n",
       "      <td>-79.796264</td>\n",
       "      <td>1</td>\n",
       "      <td>58.578675</td>\n",
       "      <td>149.804992</td>\n",
       "      <td>-0.357529</td>\n",
       "    </tr>\n",
       "    <tr>\n",
       "      <th>4816</th>\n",
       "      <td>2019-01-12 03:48:07</td>\n",
       "      <td>581686439828</td>\n",
       "      <td>grocery_pos</td>\n",
       "      <td>328.68</td>\n",
       "      <td>M</td>\n",
       "      <td>41.5205</td>\n",
       "      <td>-80.0573</td>\n",
       "      <td>5507</td>\n",
       "      <td>1973-07-28</td>\n",
       "      <td>42.148618</td>\n",
       "      <td>-79.398595</td>\n",
       "      <td>1</td>\n",
       "      <td>58.578675</td>\n",
       "      <td>149.804992</td>\n",
       "      <td>1.619419</td>\n",
       "    </tr>\n",
       "    <tr>\n",
       "      <th>4979</th>\n",
       "      <td>2019-01-12 15:46:10</td>\n",
       "      <td>581686439828</td>\n",
       "      <td>food_dining</td>\n",
       "      <td>120.58</td>\n",
       "      <td>M</td>\n",
       "      <td>41.5205</td>\n",
       "      <td>-80.0573</td>\n",
       "      <td>5507</td>\n",
       "      <td>1973-07-28</td>\n",
       "      <td>42.470024</td>\n",
       "      <td>-80.126576</td>\n",
       "      <td>1</td>\n",
       "      <td>58.578675</td>\n",
       "      <td>149.804992</td>\n",
       "      <td>0.321413</td>\n",
       "    </tr>\n",
       "    <tr>\n",
       "      <th>5073</th>\n",
       "      <td>2019-01-12 19:53:59</td>\n",
       "      <td>581686439828</td>\n",
       "      <td>shopping_net</td>\n",
       "      <td>1081.35</td>\n",
       "      <td>M</td>\n",
       "      <td>41.5205</td>\n",
       "      <td>-80.0573</td>\n",
       "      <td>5507</td>\n",
       "      <td>1973-07-28</td>\n",
       "      <td>42.455406</td>\n",
       "      <td>-79.521640</td>\n",
       "      <td>1</td>\n",
       "      <td>58.578675</td>\n",
       "      <td>149.804992</td>\n",
       "      <td>6.314133</td>\n",
       "    </tr>\n",
       "    <tr>\n",
       "      <th>5124</th>\n",
       "      <td>2019-01-12 22:44:05</td>\n",
       "      <td>581686439828</td>\n",
       "      <td>shopping_net</td>\n",
       "      <td>776.70</td>\n",
       "      <td>M</td>\n",
       "      <td>41.5205</td>\n",
       "      <td>-80.0573</td>\n",
       "      <td>5507</td>\n",
       "      <td>1973-07-28</td>\n",
       "      <td>40.680209</td>\n",
       "      <td>-79.099101</td>\n",
       "      <td>1</td>\n",
       "      <td>58.578675</td>\n",
       "      <td>149.804992</td>\n",
       "      <td>4.413905</td>\n",
       "    </tr>\n",
       "    <tr>\n",
       "      <th>...</th>\n",
       "      <td>...</td>\n",
       "      <td>...</td>\n",
       "      <td>...</td>\n",
       "      <td>...</td>\n",
       "      <td>...</td>\n",
       "      <td>...</td>\n",
       "      <td>...</td>\n",
       "      <td>...</td>\n",
       "      <td>...</td>\n",
       "      <td>...</td>\n",
       "      <td>...</td>\n",
       "      <td>...</td>\n",
       "      <td>...</td>\n",
       "      <td>...</td>\n",
       "      <td>...</td>\n",
       "    </tr>\n",
       "    <tr>\n",
       "      <th>477832</th>\n",
       "      <td>2020-12-21 02:21:41</td>\n",
       "      <td>4716561796955522</td>\n",
       "      <td>grocery_pos</td>\n",
       "      <td>358.24</td>\n",
       "      <td>F</td>\n",
       "      <td>48.2777</td>\n",
       "      <td>-112.8456</td>\n",
       "      <td>743</td>\n",
       "      <td>1972-05-04</td>\n",
       "      <td>47.526202</td>\n",
       "      <td>-113.643313</td>\n",
       "      <td>1</td>\n",
       "      <td>52.537867</td>\n",
       "      <td>106.113023</td>\n",
       "      <td>1.803797</td>\n",
       "    </tr>\n",
       "    <tr>\n",
       "      <th>477847</th>\n",
       "      <td>2020-12-21 02:36:03</td>\n",
       "      <td>4716561796955522</td>\n",
       "      <td>shopping_net</td>\n",
       "      <td>859.12</td>\n",
       "      <td>F</td>\n",
       "      <td>48.2777</td>\n",
       "      <td>-112.8456</td>\n",
       "      <td>743</td>\n",
       "      <td>1972-05-04</td>\n",
       "      <td>48.272348</td>\n",
       "      <td>-112.328075</td>\n",
       "      <td>1</td>\n",
       "      <td>52.537867</td>\n",
       "      <td>106.113023</td>\n",
       "      <td>4.927992</td>\n",
       "    </tr>\n",
       "    <tr>\n",
       "      <th>479296</th>\n",
       "      <td>2020-12-21 22:38:38</td>\n",
       "      <td>4716561796955522</td>\n",
       "      <td>home</td>\n",
       "      <td>209.84</td>\n",
       "      <td>F</td>\n",
       "      <td>48.2777</td>\n",
       "      <td>-112.8456</td>\n",
       "      <td>743</td>\n",
       "      <td>1972-05-04</td>\n",
       "      <td>49.173669</td>\n",
       "      <td>-112.698767</td>\n",
       "      <td>1</td>\n",
       "      <td>52.537867</td>\n",
       "      <td>106.113023</td>\n",
       "      <td>0.878165</td>\n",
       "    </tr>\n",
       "    <tr>\n",
       "      <th>479305</th>\n",
       "      <td>2020-12-21 22:42:11</td>\n",
       "      <td>4716561796955522</td>\n",
       "      <td>food_dining</td>\n",
       "      <td>123.58</td>\n",
       "      <td>F</td>\n",
       "      <td>48.2777</td>\n",
       "      <td>-112.8456</td>\n",
       "      <td>743</td>\n",
       "      <td>1972-05-04</td>\n",
       "      <td>48.913048</td>\n",
       "      <td>-113.214921</td>\n",
       "      <td>1</td>\n",
       "      <td>52.537867</td>\n",
       "      <td>106.113023</td>\n",
       "      <td>0.340125</td>\n",
       "    </tr>\n",
       "    <tr>\n",
       "      <th>479341</th>\n",
       "      <td>2020-12-21 22:59:22</td>\n",
       "      <td>4716561796955522</td>\n",
       "      <td>home</td>\n",
       "      <td>219.11</td>\n",
       "      <td>F</td>\n",
       "      <td>48.2777</td>\n",
       "      <td>-112.8456</td>\n",
       "      <td>743</td>\n",
       "      <td>1972-05-04</td>\n",
       "      <td>47.911219</td>\n",
       "      <td>-113.691603</td>\n",
       "      <td>1</td>\n",
       "      <td>52.537867</td>\n",
       "      <td>106.113023</td>\n",
       "      <td>0.935986</td>\n",
       "    </tr>\n",
       "  </tbody>\n",
       "</table>\n",
       "<p>1244 rows × 15 columns</p>\n",
       "</div>"
      ],
      "text/plain": [
       "       trans_date_trans_time            cc_num       category      amt gender  \\\n",
       "4794     2019-01-12 00:59:01      581686439828  gas_transport    11.73      M   \n",
       "4816     2019-01-12 03:48:07      581686439828    grocery_pos   328.68      M   \n",
       "4979     2019-01-12 15:46:10      581686439828    food_dining   120.58      M   \n",
       "5073     2019-01-12 19:53:59      581686439828   shopping_net  1081.35      M   \n",
       "5124     2019-01-12 22:44:05      581686439828   shopping_net   776.70      M   \n",
       "...                      ...               ...            ...      ...    ...   \n",
       "477832   2020-12-21 02:21:41  4716561796955522    grocery_pos   358.24      F   \n",
       "477847   2020-12-21 02:36:03  4716561796955522   shopping_net   859.12      F   \n",
       "479296   2020-12-21 22:38:38  4716561796955522           home   209.84      F   \n",
       "479305   2020-12-21 22:42:11  4716561796955522    food_dining   123.58      F   \n",
       "479341   2020-12-21 22:59:22  4716561796955522           home   219.11      F   \n",
       "\n",
       "            lat      long  city_pop         dob  merch_lat  merch_long  \\\n",
       "4794    41.5205  -80.0573      5507  1973-07-28  41.947427  -79.796264   \n",
       "4816    41.5205  -80.0573      5507  1973-07-28  42.148618  -79.398595   \n",
       "4979    41.5205  -80.0573      5507  1973-07-28  42.470024  -80.126576   \n",
       "5073    41.5205  -80.0573      5507  1973-07-28  42.455406  -79.521640   \n",
       "5124    41.5205  -80.0573      5507  1973-07-28  40.680209  -79.099101   \n",
       "...         ...       ...       ...         ...        ...         ...   \n",
       "477832  48.2777 -112.8456       743  1972-05-04  47.526202 -113.643313   \n",
       "477847  48.2777 -112.8456       743  1972-05-04  48.272348 -112.328075   \n",
       "479296  48.2777 -112.8456       743  1972-05-04  49.173669 -112.698767   \n",
       "479305  48.2777 -112.8456       743  1972-05-04  48.913048 -113.214921   \n",
       "479341  48.2777 -112.8456       743  1972-05-04  47.911219 -113.691603   \n",
       "\n",
       "        is_fraud       mean         std     amt_z  \n",
       "4794           1  58.578675  149.804992 -0.357529  \n",
       "4816           1  58.578675  149.804992  1.619419  \n",
       "4979           1  58.578675  149.804992  0.321413  \n",
       "5073           1  58.578675  149.804992  6.314133  \n",
       "5124           1  58.578675  149.804992  4.413905  \n",
       "...          ...        ...         ...       ...  \n",
       "477832         1  52.537867  106.113023  1.803797  \n",
       "477847         1  52.537867  106.113023  4.927992  \n",
       "479296         1  52.537867  106.113023  0.878165  \n",
       "479305         1  52.537867  106.113023  0.340125  \n",
       "479341         1  52.537867  106.113023  0.935986  \n",
       "\n",
       "[1244 rows x 15 columns]"
      ]
     },
     "execution_count": 80,
     "metadata": {},
     "output_type": "execute_result"
    }
   ],
   "source": [
    "cc_df[cc_df['is_fraud'] == 1]"
   ]
  },
  {
   "cell_type": "code",
   "execution_count": 81,
   "id": "0a073f54",
   "metadata": {},
   "outputs": [],
   "source": [
    "cc_df.drop(['mean','std'], axis = 1, inplace = True)"
   ]
  },
  {
   "cell_type": "code",
   "execution_count": 82,
   "id": "10574923",
   "metadata": {},
   "outputs": [],
   "source": [
    "# cc_num, category 컬럼의 값마다 결제금액(amt)의 평균, 표준편차를 계산하여 cat_info에 저장합니다.\n",
    "cat_info=cc_df.groupby(['cc_num','category'])['amt'].agg(['mean','std']).reset_index()"
   ]
  },
  {
   "cell_type": "code",
   "execution_count": 83,
   "id": "21f68f2e",
   "metadata": {},
   "outputs": [],
   "source": [
    "cat_info.to_pickle('./cat_info.pkl')"
   ]
  },
  {
   "cell_type": "code",
   "execution_count": null,
   "id": "dc5d7070",
   "metadata": {},
   "outputs": [],
   "source": [
    "# Q. cc_num 컬럼을 기준으로, cc_df와 cat_info 데이터를 합쳐서 cc_df에 저장합니다.\n",
    "# (left merge를 수행합니다.)\n",
    "\n",
    "cc_df=pd.merge(cc_df,cat_info, on='cc_num',how='left')"
   ]
  },
  {
   "cell_type": "code",
   "execution_count": null,
   "id": "90ea0071",
   "metadata": {},
   "outputs": [],
   "source": [
    "mean_2=cc_df['amt'].mean()\n",
    "std_2=cc_df['amt'].std()\n",
    "cc_df['cat_amt_z']=(cc_df['amt']-mean_2)/std_2"
   ]
  },
  {
   "cell_type": "code",
   "execution_count": null,
   "id": "1d5b464b",
   "metadata": {},
   "outputs": [],
   "source": [
    "# z-score 계산이 완료되었으니 mean, std 컬럼을 제거합니다.\n",
    "cc_df.drop(['mean','std'],axis=1,inplace=True)"
   ]
  },
  {
   "cell_type": "code",
   "execution_count": null,
   "id": "8e7b210e",
   "metadata": {},
   "outputs": [],
   "source": [
    "cc_df.head()"
   ]
  },
  {
   "cell_type": "code",
   "execution_count": null,
   "id": "6aa9a93c",
   "metadata": {},
   "outputs": [],
   "source": [
    "cc_df['trans_date_trans_time']=pd.to_datetime(cc_df['trans_date_trans_time'])\n",
    "cc_df['hour']=cc_df['trans_date_trans_time'].dt.hour"
   ]
  },
  {
   "cell_type": "code",
   "execution_count": null,
   "id": "42e11839",
   "metadata": {},
   "outputs": [],
   "source": [
    "cc_df.head()"
   ]
  },
  {
   "cell_type": "code",
   "execution_count": null,
   "id": "7dcfa1c0",
   "metadata": {},
   "outputs": [],
   "source": [
    "# 결제시간을 morning, afternoon, night, evening으로 분류하기 위해 함수를 정의합니다.\n",
    "\n",
    "def hour_func(x):\n",
    "    if (x>=6)&(x<12):\n",
    "        return 'morning'\n",
    "    elif (x>= 12) &(x<18):\n",
    "        return 'afternoon'\n",
    "    elif (x>=6) & (x<23):\n",
    "        return 'night'\n",
    "    else:\n",
    "        return 'evening'\n",
    "    "
   ]
  },
  {
   "cell_type": "code",
   "execution_count": null,
   "id": "20c86682",
   "metadata": {},
   "outputs": [],
   "source": [
    "cc_df['hour_cat']=cc_df['hour'].apply(hour_func)"
   ]
  },
  {
   "cell_type": "code",
   "execution_count": null,
   "id": "aa5ead26",
   "metadata": {},
   "outputs": [],
   "source": [
    "cc_df.head()"
   ]
  },
  {
   "cell_type": "code",
   "execution_count": null,
   "id": "2055e189",
   "metadata": {},
   "outputs": [],
   "source": [
    "print(cc_df['hour_cat'].value_counts())"
   ]
  },
  {
   "cell_type": "code",
   "execution_count": null,
   "id": "9cf2a212",
   "metadata": {},
   "outputs": [],
   "source": [
    "# cc_num 컬럼의 값마다 amt 컬럼의 데이터 수를 계산하여 all_cnt 변수로 저장합니다.\n",
    "all_cnt=cc_df.groupby('cc_num')['amt'].count().reset_index()"
   ]
  },
  {
   "cell_type": "code",
   "execution_count": null,
   "id": "6e4f4579",
   "metadata": {},
   "outputs": [],
   "source": [
    "# cc_num, hour_cat 컬럼의 값마다 amt 컬럼의 데이터 수를 계산하여 hour_cnt 변수로 저장합니다.\n",
    "hour_cnt=cc_df.groupby(['cc_num','hour_cat'])['amt'].count().reset_index()"
   ]
  },
  {
   "cell_type": "code",
   "execution_count": null,
   "id": "ce95ab98",
   "metadata": {},
   "outputs": [],
   "source": [
    "all_cnt.head()"
   ]
  },
  {
   "cell_type": "code",
   "execution_count": null,
   "id": "b1034849",
   "metadata": {},
   "outputs": [],
   "source": [
    "hour_cnt.head()"
   ]
  },
  {
   "cell_type": "code",
   "execution_count": null,
   "id": "cc4d6b78",
   "metadata": {},
   "outputs": [],
   "source": [
    "cc_df = pd.merge(cc_df, hour_cnt[['cc_num', 'hour_cat', 'amt']], on=['cc_num', 'hour_cat'], how='left')\n",
    "print(cc_df.columns) "
   ]
  },
  {
   "cell_type": "code",
   "execution_count": null,
   "id": "dd8cadd9",
   "metadata": {},
   "outputs": [],
   "source": [
    "hour_cnt.head()"
   ]
  },
  {
   "cell_type": "code",
   "execution_count": null,
   "id": "98a5e757",
   "metadata": {},
   "outputs": [],
   "source": [
    "hour_cnt=hour_cnt.rename(columns={'amt_x':'hour_cnt','amt_y':'total_cnt'})"
   ]
  },
  {
   "cell_type": "code",
   "execution_count": null,
   "id": "411508bd",
   "metadata": {},
   "outputs": [],
   "source": [
    "hour_cnt.head()"
   ]
  },
  {
   "cell_type": "code",
   "execution_count": null,
   "id": "a88a7ca6",
   "metadata": {},
   "outputs": [],
   "source": [
    "# Q. 전체 거래 건수(total_cnt)에 대한 시간대별 거래 건수(hour_cnt)의 비율을 계산하여 \n",
    "# hour_perc 컬럼에 저장합니다.\n",
    "\n",
    "cc_df['hour_perc']=cc_df['hour_cnt']/cc_df['total_cnt']*100"
   ]
  },
  {
   "cell_type": "code",
   "execution_count": 1,
   "id": "37d32b6b",
   "metadata": {},
   "outputs": [
    {
     "ename": "NameError",
     "evalue": "name 'hour_cnt' is not defined",
     "output_type": "error",
     "traceback": [
      "\u001b[0;31m---------------------------------------------------------------------------\u001b[0m",
      "\u001b[0;31mNameError\u001b[0m                                 Traceback (most recent call last)",
      "\u001b[0;32m/tmp/ipykernel_376/932338822.py\u001b[0m in \u001b[0;36m<module>\u001b[0;34m\u001b[0m\n\u001b[0;32m----> 1\u001b[0;31m \u001b[0mhour_cnt\u001b[0m\u001b[0;34m.\u001b[0m\u001b[0mhead\u001b[0m\u001b[0;34m(\u001b[0m\u001b[0;36m10\u001b[0m\u001b[0;34m)\u001b[0m\u001b[0;34m\u001b[0m\u001b[0;34m\u001b[0m\u001b[0m\n\u001b[0m",
      "\u001b[0;31mNameError\u001b[0m: name 'hour_cnt' is not defined"
     ]
    }
   ],
   "source": [
    "hour_cnt.head(10)"
   ]
  },
  {
   "cell_type": "code",
   "execution_count": 2,
   "id": "d9fa796d",
   "metadata": {},
   "outputs": [
    {
     "ename": "NameError",
     "evalue": "name 'hour_cnt' is not defined",
     "output_type": "error",
     "traceback": [
      "\u001b[0;31m---------------------------------------------------------------------------\u001b[0m",
      "\u001b[0;31mNameError\u001b[0m                                 Traceback (most recent call last)",
      "\u001b[0;32m/tmp/ipykernel_376/3277637325.py\u001b[0m in \u001b[0;36m<module>\u001b[0;34m\u001b[0m\n\u001b[0;32m----> 1\u001b[0;31m \u001b[0mhour_cnt\u001b[0m\u001b[0;34m.\u001b[0m\u001b[0mtail\u001b[0m\u001b[0;34m(\u001b[0m\u001b[0;36m10\u001b[0m\u001b[0;34m)\u001b[0m\u001b[0;34m\u001b[0m\u001b[0;34m\u001b[0m\u001b[0m\n\u001b[0m",
      "\u001b[0;31mNameError\u001b[0m: name 'hour_cnt' is not defined"
     ]
    }
   ],
   "source": [
    "hour_cnt.tail(10)"
   ]
  },
  {
   "cell_type": "code",
   "execution_count": 3,
   "id": "cf8253d4",
   "metadata": {},
   "outputs": [
    {
     "ename": "NameError",
     "evalue": "name 'cc_df' is not defined",
     "output_type": "error",
     "traceback": [
      "\u001b[0;31m---------------------------------------------------------------------------\u001b[0m",
      "\u001b[0;31mNameError\u001b[0m                                 Traceback (most recent call last)",
      "\u001b[0;32m/tmp/ipykernel_376/3725455974.py\u001b[0m in \u001b[0;36m<module>\u001b[0;34m\u001b[0m\n\u001b[0;32m----> 1\u001b[0;31m \u001b[0mcc_df\u001b[0m\u001b[0;34m.\u001b[0m\u001b[0mhead\u001b[0m\u001b[0;34m(\u001b[0m\u001b[0;34m)\u001b[0m\u001b[0;34m\u001b[0m\u001b[0;34m\u001b[0m\u001b[0m\n\u001b[0m",
      "\u001b[0;31mNameError\u001b[0m: name 'cc_df' is not defined"
     ]
    }
   ],
   "source": [
    "cc_df.head()"
   ]
  },
  {
   "cell_type": "code",
   "execution_count": 4,
   "id": "6d1ff00b",
   "metadata": {},
   "outputs": [
    {
     "ename": "NameError",
     "evalue": "name 'hour_cnt' is not defined",
     "output_type": "error",
     "traceback": [
      "\u001b[0;31m---------------------------------------------------------------------------\u001b[0m",
      "\u001b[0;31mNameError\u001b[0m                                 Traceback (most recent call last)",
      "\u001b[0;32m/tmp/ipykernel_376/1142958818.py\u001b[0m in \u001b[0;36m<module>\u001b[0;34m\u001b[0m\n\u001b[0;32m----> 1\u001b[0;31m \u001b[0mhour_cnt\u001b[0m \u001b[0;34m=\u001b[0m \u001b[0mhour_cnt\u001b[0m\u001b[0;34m[\u001b[0m\u001b[0;34m[\u001b[0m\u001b[0;34m'cc_num'\u001b[0m\u001b[0;34m,\u001b[0m\u001b[0;34m'hour_cat'\u001b[0m\u001b[0;34m,\u001b[0m\u001b[0;34m'hour_perc'\u001b[0m\u001b[0;34m]\u001b[0m\u001b[0;34m]\u001b[0m\u001b[0;34m\u001b[0m\u001b[0;34m\u001b[0m\u001b[0m\n\u001b[0m",
      "\u001b[0;31mNameError\u001b[0m: name 'hour_cnt' is not defined"
     ]
    }
   ],
   "source": [
    "hour_cnt = hour_cnt[['cc_num','hour_cat','hour_perc']]"
   ]
  },
  {
   "cell_type": "code",
   "execution_count": 5,
   "id": "6d42973c",
   "metadata": {},
   "outputs": [
    {
     "ename": "NameError",
     "evalue": "name 'hour_cnt' is not defined",
     "output_type": "error",
     "traceback": [
      "\u001b[0;31m---------------------------------------------------------------------------\u001b[0m",
      "\u001b[0;31mNameError\u001b[0m                                 Traceback (most recent call last)",
      "\u001b[0;32m/tmp/ipykernel_376/2115383901.py\u001b[0m in \u001b[0;36m<module>\u001b[0;34m\u001b[0m\n\u001b[0;32m----> 1\u001b[0;31m \u001b[0mhour_cnt\u001b[0m\u001b[0;34m.\u001b[0m\u001b[0mto_pickle\u001b[0m\u001b[0;34m(\u001b[0m\u001b[0;34m'./hour_cnt.pkl'\u001b[0m\u001b[0;34m)\u001b[0m\u001b[0;34m\u001b[0m\u001b[0;34m\u001b[0m\u001b[0m\n\u001b[0m",
      "\u001b[0;31mNameError\u001b[0m: name 'hour_cnt' is not defined"
     ]
    }
   ],
   "source": [
    "hour_cnt.to_pickle('./hour_cnt.pkl')"
   ]
  },
  {
   "cell_type": "code",
   "execution_count": 6,
   "id": "463c4bb5",
   "metadata": {},
   "outputs": [
    {
     "ename": "NameError",
     "evalue": "name 'pd' is not defined",
     "output_type": "error",
     "traceback": [
      "\u001b[0;31m---------------------------------------------------------------------------\u001b[0m",
      "\u001b[0;31mNameError\u001b[0m                                 Traceback (most recent call last)",
      "\u001b[0;32m/tmp/ipykernel_376/4131778216.py\u001b[0m in \u001b[0;36m<module>\u001b[0;34m\u001b[0m\n\u001b[0;32m----> 1\u001b[0;31m \u001b[0mcc_df\u001b[0m \u001b[0;34m=\u001b[0m \u001b[0mpd\u001b[0m\u001b[0;34m.\u001b[0m\u001b[0mmerge\u001b[0m\u001b[0;34m(\u001b[0m\u001b[0mcc_df\u001b[0m\u001b[0;34m,\u001b[0m \u001b[0mhour_cnt\u001b[0m\u001b[0;34m,\u001b[0m \u001b[0mon\u001b[0m\u001b[0;34m=\u001b[0m\u001b[0;34m[\u001b[0m\u001b[0;34m'cc_num'\u001b[0m\u001b[0;34m,\u001b[0m \u001b[0;34m'hour_cat'\u001b[0m\u001b[0;34m]\u001b[0m\u001b[0;34m,\u001b[0m \u001b[0mhow\u001b[0m\u001b[0;34m=\u001b[0m\u001b[0;34m'left'\u001b[0m\u001b[0;34m)\u001b[0m\u001b[0;34m\u001b[0m\u001b[0;34m\u001b[0m\u001b[0m\n\u001b[0m",
      "\u001b[0;31mNameError\u001b[0m: name 'pd' is not defined"
     ]
    }
   ],
   "source": [
    "cc_df = pd.merge(cc_df, hour_cnt, on=['cc_num', 'hour_cat'], how='left')"
   ]
  },
  {
   "cell_type": "code",
   "execution_count": 7,
   "id": "cb085360",
   "metadata": {},
   "outputs": [
    {
     "ename": "NameError",
     "evalue": "name 'cc_df' is not defined",
     "output_type": "error",
     "traceback": [
      "\u001b[0;31m---------------------------------------------------------------------------\u001b[0m",
      "\u001b[0;31mNameError\u001b[0m                                 Traceback (most recent call last)",
      "\u001b[0;32m/tmp/ipykernel_376/3725455974.py\u001b[0m in \u001b[0;36m<module>\u001b[0;34m\u001b[0m\n\u001b[0;32m----> 1\u001b[0;31m \u001b[0mcc_df\u001b[0m\u001b[0;34m.\u001b[0m\u001b[0mhead\u001b[0m\u001b[0;34m(\u001b[0m\u001b[0;34m)\u001b[0m\u001b[0;34m\u001b[0m\u001b[0;34m\u001b[0m\u001b[0m\n\u001b[0m",
      "\u001b[0;31mNameError\u001b[0m: name 'cc_df' is not defined"
     ]
    }
   ],
   "source": [
    "cc_df.head()"
   ]
  },
  {
   "cell_type": "code",
   "execution_count": 8,
   "id": "c3fdfa14",
   "metadata": {},
   "outputs": [
    {
     "ename": "NameError",
     "evalue": "name 'cc_df' is not defined",
     "output_type": "error",
     "traceback": [
      "\u001b[0;31m---------------------------------------------------------------------------\u001b[0m",
      "\u001b[0;31mNameError\u001b[0m                                 Traceback (most recent call last)",
      "\u001b[0;32m/tmp/ipykernel_376/246418600.py\u001b[0m in \u001b[0;36m<module>\u001b[0;34m\u001b[0m\n\u001b[0;32m----> 1\u001b[0;31m \u001b[0mcc_df\u001b[0m\u001b[0;34m.\u001b[0m\u001b[0mdrop\u001b[0m\u001b[0;34m(\u001b[0m\u001b[0;34m[\u001b[0m\u001b[0;34m'trans_date_trans_time'\u001b[0m\u001b[0;34m,\u001b[0m \u001b[0;34m'hour'\u001b[0m\u001b[0;34m,\u001b[0m \u001b[0;34m'hour_cat'\u001b[0m\u001b[0;34m]\u001b[0m\u001b[0;34m,\u001b[0m \u001b[0maxis\u001b[0m \u001b[0;34m=\u001b[0m\u001b[0;36m1\u001b[0m \u001b[0;34m,\u001b[0m \u001b[0minplace\u001b[0m \u001b[0;34m=\u001b[0m \u001b[0;32mTrue\u001b[0m\u001b[0;34m)\u001b[0m\u001b[0;34m\u001b[0m\u001b[0;34m\u001b[0m\u001b[0m\n\u001b[0m",
      "\u001b[0;31mNameError\u001b[0m: name 'cc_df' is not defined"
     ]
    }
   ],
   "source": [
    "cc_df.drop(['trans_date_trans_time', 'hour', 'hour_cat'], axis =1 , inplace = True)"
   ]
  },
  {
   "cell_type": "code",
   "execution_count": 9,
   "id": "d4154b9a",
   "metadata": {},
   "outputs": [
    {
     "name": "stdout",
     "output_type": "stream",
     "text": [
      "Collecting geopy\n",
      "  Downloading geopy-2.4.1-py3-none-any.whl (125 kB)\n",
      "\u001b[2K     \u001b[90m━━━━━━━━━━━━━━━━━━━━━━━━━━━━━━━━━━━━━━━\u001b[0m \u001b[32m125.4/125.4 KB\u001b[0m \u001b[31m5.6 MB/s\u001b[0m eta \u001b[36m0:00:00\u001b[0m\n",
      "\u001b[?25hCollecting geographiclib<3,>=1.52\n",
      "  Downloading geographiclib-2.0-py3-none-any.whl (40 kB)\n",
      "\u001b[2K     \u001b[90m━━━━━━━━━━━━━━━━━━━━━━━━━━━━━━━━━━━━━━━━\u001b[0m \u001b[32m40.3/40.3 KB\u001b[0m \u001b[31m3.0 MB/s\u001b[0m eta \u001b[36m0:00:00\u001b[0m\n",
      "\u001b[?25hInstalling collected packages: geographiclib, geopy\n",
      "Successfully installed geographiclib-2.0 geopy-2.4.1\n",
      "\u001b[33mWARNING: Running pip as the 'root' user can result in broken permissions and conflicting behaviour with the system package manager. It is recommended to use a virtual environment instead: https://pip.pypa.io/warnings/venv\u001b[0m\u001b[33m\n",
      "\u001b[0m"
     ]
    }
   ],
   "source": [
    "!pip install geopy"
   ]
  },
  {
   "cell_type": "code",
   "execution_count": 10,
   "id": "fb4b21df",
   "metadata": {},
   "outputs": [],
   "source": [
    "from geopy.distance import distance"
   ]
  },
  {
   "cell_type": "code",
   "execution_count": 11,
   "id": "c40b9d2a",
   "metadata": {},
   "outputs": [
    {
     "data": {
      "text/plain": [
       "30.216618410409005"
      ]
     },
     "execution_count": 11,
     "metadata": {},
     "output_type": "execute_result"
    }
   ],
   "source": [
    "distance((48.8878, -118.2105), (49.159047, -118.186462)).km"
   ]
  },
  {
   "cell_type": "code",
   "execution_count": 12,
   "id": "73b94ff4",
   "metadata": {},
   "outputs": [
    {
     "ename": "NameError",
     "evalue": "name 'cc_df' is not defined",
     "output_type": "error",
     "traceback": [
      "\u001b[0;31m---------------------------------------------------------------------------\u001b[0m",
      "\u001b[0;31mNameError\u001b[0m                                 Traceback (most recent call last)",
      "\u001b[0;32m/tmp/ipykernel_376/3165380497.py\u001b[0m in \u001b[0;36m<module>\u001b[0;34m\u001b[0m\n\u001b[0;32m----> 1\u001b[0;31m \u001b[0mcc_df\u001b[0m\u001b[0;34m[\u001b[0m\u001b[0;34m'distance'\u001b[0m\u001b[0;34m]\u001b[0m \u001b[0;34m=\u001b[0m \u001b[0mcc_df\u001b[0m\u001b[0;34m.\u001b[0m\u001b[0mapply\u001b[0m\u001b[0;34m(\u001b[0m\u001b[0;32mlambda\u001b[0m \u001b[0mx\u001b[0m\u001b[0;34m:\u001b[0m \u001b[0mdistance\u001b[0m\u001b[0;34m(\u001b[0m\u001b[0;34m(\u001b[0m\u001b[0mx\u001b[0m\u001b[0;34m[\u001b[0m\u001b[0;34m'lat'\u001b[0m\u001b[0;34m]\u001b[0m\u001b[0;34m,\u001b[0m \u001b[0mx\u001b[0m\u001b[0;34m[\u001b[0m\u001b[0;34m'long'\u001b[0m\u001b[0;34m]\u001b[0m\u001b[0;34m)\u001b[0m\u001b[0;34m,\u001b[0m \u001b[0;34m(\u001b[0m\u001b[0mx\u001b[0m\u001b[0;34m[\u001b[0m\u001b[0;34m'merch_lat'\u001b[0m\u001b[0;34m]\u001b[0m\u001b[0;34m,\u001b[0m \u001b[0mx\u001b[0m\u001b[0;34m[\u001b[0m\u001b[0;34m'merch_long'\u001b[0m\u001b[0;34m]\u001b[0m\u001b[0;34m)\u001b[0m\u001b[0;34m)\u001b[0m\u001b[0;34m.\u001b[0m\u001b[0mkm\u001b[0m\u001b[0;34m,\u001b[0m \u001b[0maxis\u001b[0m \u001b[0;34m=\u001b[0m \u001b[0;36m1\u001b[0m\u001b[0;34m)\u001b[0m\u001b[0;34m\u001b[0m\u001b[0;34m\u001b[0m\u001b[0m\n\u001b[0m",
      "\u001b[0;31mNameError\u001b[0m: name 'cc_df' is not defined"
     ]
    }
   ],
   "source": [
    "cc_df['distance'] = cc_df.apply(lambda x: distance((x['lat'], x['long']), (x['merch_lat'], x['merch_long'])).km, axis = 1)"
   ]
  },
  {
   "cell_type": "code",
   "execution_count": 13,
   "id": "a673f14b",
   "metadata": {},
   "outputs": [],
   "source": [
    "from datetime import datetime"
   ]
  },
  {
   "cell_type": "code",
   "execution_count": 14,
   "id": "99b710ee",
   "metadata": {},
   "outputs": [
    {
     "ename": "NameError",
     "evalue": "name 'cc_df' is not defined",
     "output_type": "error",
     "traceback": [
      "\u001b[0;31m---------------------------------------------------------------------------\u001b[0m",
      "\u001b[0;31mNameError\u001b[0m                                 Traceback (most recent call last)",
      "\u001b[0;32m/tmp/ipykernel_376/78269336.py\u001b[0m in \u001b[0;36m<module>\u001b[0;34m\u001b[0m\n\u001b[1;32m      1\u001b[0m \u001b[0mstart_time\u001b[0m \u001b[0;34m=\u001b[0m  \u001b[0mdatetime\u001b[0m\u001b[0;34m.\u001b[0m\u001b[0mnow\u001b[0m\u001b[0;34m(\u001b[0m\u001b[0;34m)\u001b[0m\u001b[0;34m\u001b[0m\u001b[0;34m\u001b[0m\u001b[0m\n\u001b[0;32m----> 2\u001b[0;31m \u001b[0mcc_df\u001b[0m\u001b[0;34m.\u001b[0m\u001b[0mhead\u001b[0m\u001b[0;34m(\u001b[0m\u001b[0;36m10000\u001b[0m\u001b[0;34m)\u001b[0m\u001b[0;34m.\u001b[0m\u001b[0mapply\u001b[0m\u001b[0;34m(\u001b[0m\u001b[0;32mlambda\u001b[0m \u001b[0mx\u001b[0m\u001b[0;34m:\u001b[0m \u001b[0mdistance\u001b[0m\u001b[0;34m(\u001b[0m\u001b[0;34m(\u001b[0m\u001b[0mx\u001b[0m\u001b[0;34m[\u001b[0m\u001b[0;34m'lat'\u001b[0m\u001b[0;34m]\u001b[0m\u001b[0;34m,\u001b[0m \u001b[0mx\u001b[0m\u001b[0;34m[\u001b[0m\u001b[0;34m'long'\u001b[0m\u001b[0;34m]\u001b[0m\u001b[0;34m)\u001b[0m\u001b[0;34m,\u001b[0m \u001b[0;34m(\u001b[0m\u001b[0mx\u001b[0m\u001b[0;34m[\u001b[0m\u001b[0;34m'merch_lat'\u001b[0m\u001b[0;34m]\u001b[0m\u001b[0;34m,\u001b[0m \u001b[0mx\u001b[0m\u001b[0;34m[\u001b[0m\u001b[0;34m'merch_long'\u001b[0m\u001b[0;34m]\u001b[0m\u001b[0;34m)\u001b[0m\u001b[0;34m)\u001b[0m\u001b[0;34m.\u001b[0m\u001b[0mkm\u001b[0m\u001b[0;34m,\u001b[0m \u001b[0maxis\u001b[0m \u001b[0;34m=\u001b[0m \u001b[0;36m1\u001b[0m\u001b[0;34m)\u001b[0m\u001b[0;34m\u001b[0m\u001b[0;34m\u001b[0m\u001b[0m\n\u001b[0m\u001b[1;32m      3\u001b[0m \u001b[0mdatetime\u001b[0m\u001b[0;34m.\u001b[0m\u001b[0mnow\u001b[0m\u001b[0;34m(\u001b[0m\u001b[0;34m)\u001b[0m \u001b[0;34m-\u001b[0m \u001b[0mstart_time\u001b[0m\u001b[0;34m\u001b[0m\u001b[0;34m\u001b[0m\u001b[0m\n",
      "\u001b[0;31mNameError\u001b[0m: name 'cc_df' is not defined"
     ]
    }
   ],
   "source": [
    "start_time =  datetime.now()\n",
    "cc_df.head(10000).apply(lambda x: distance((x['lat'], x['long']), (x['merch_lat'], x['merch_long'])).km, axis = 1)\n",
    "datetime.now() - start_time"
   ]
  },
  {
   "cell_type": "code",
   "execution_count": 15,
   "id": "e58c703e",
   "metadata": {},
   "outputs": [
    {
     "ename": "NameError",
     "evalue": "name 'cc_df' is not defined",
     "output_type": "error",
     "traceback": [
      "\u001b[0;31m---------------------------------------------------------------------------\u001b[0m",
      "\u001b[0;31mNameError\u001b[0m                                 Traceback (most recent call last)",
      "\u001b[0;32m/tmp/ipykernel_376/3725455974.py\u001b[0m in \u001b[0;36m<module>\u001b[0;34m\u001b[0m\n\u001b[0;32m----> 1\u001b[0;31m \u001b[0mcc_df\u001b[0m\u001b[0;34m.\u001b[0m\u001b[0mhead\u001b[0m\u001b[0;34m(\u001b[0m\u001b[0;34m)\u001b[0m\u001b[0;34m\u001b[0m\u001b[0;34m\u001b[0m\u001b[0m\n\u001b[0m",
      "\u001b[0;31mNameError\u001b[0m: name 'cc_df' is not defined"
     ]
    }
   ],
   "source": [
    "cc_df.head()"
   ]
  },
  {
   "cell_type": "code",
   "execution_count": 16,
   "id": "0605cc1d",
   "metadata": {},
   "outputs": [
    {
     "ename": "NameError",
     "evalue": "name 'cc_df' is not defined",
     "output_type": "error",
     "traceback": [
      "\u001b[0;31m---------------------------------------------------------------------------\u001b[0m",
      "\u001b[0;31mNameError\u001b[0m                                 Traceback (most recent call last)",
      "\u001b[0;32m/tmp/ipykernel_376/688266654.py\u001b[0m in \u001b[0;36m<module>\u001b[0;34m\u001b[0m\n\u001b[1;32m      1\u001b[0m \u001b[0;31m# Q. cc_num 컬럼의 값마다 distance의 평균, 표준편차를 계산하여 dist_info 변수에 저장합니다.\u001b[0m\u001b[0;34m\u001b[0m\u001b[0;34m\u001b[0m\u001b[0m\n\u001b[1;32m      2\u001b[0m \u001b[0;34m\u001b[0m\u001b[0m\n\u001b[0;32m----> 3\u001b[0;31m \u001b[0mdist_info\u001b[0m\u001b[0;34m=\u001b[0m\u001b[0mcc_df\u001b[0m\u001b[0;34m.\u001b[0m\u001b[0mgroupby\u001b[0m\u001b[0;34m(\u001b[0m\u001b[0;34m'cc_num'\u001b[0m\u001b[0;34m)\u001b[0m\u001b[0;34m[\u001b[0m\u001b[0;34m'distance'\u001b[0m\u001b[0;34m]\u001b[0m\u001b[0;34m.\u001b[0m\u001b[0magg\u001b[0m\u001b[0;34m(\u001b[0m\u001b[0;34m[\u001b[0m\u001b[0;34m'mean'\u001b[0m\u001b[0;34m,\u001b[0m\u001b[0;34m'std'\u001b[0m\u001b[0;34m]\u001b[0m\u001b[0;34m)\u001b[0m\u001b[0;34m.\u001b[0m\u001b[0mreset_index\u001b[0m\u001b[0;34m(\u001b[0m\u001b[0;34m)\u001b[0m\u001b[0;34m\u001b[0m\u001b[0;34m\u001b[0m\u001b[0m\n\u001b[0m",
      "\u001b[0;31mNameError\u001b[0m: name 'cc_df' is not defined"
     ]
    }
   ],
   "source": [
    "# Q. cc_num 컬럼의 값마다 distance의 평균, 표준편차를 계산하여 dist_info 변수에 저장합니다.\n",
    "\n",
    "dist_info=cc_df.groupby('cc_num')['distance'].agg(['mean','std']).reset_index()"
   ]
  },
  {
   "cell_type": "code",
   "execution_count": 17,
   "id": "9b373665",
   "metadata": {},
   "outputs": [
    {
     "ename": "NameError",
     "evalue": "name 'dist_info' is not defined",
     "output_type": "error",
     "traceback": [
      "\u001b[0;31m---------------------------------------------------------------------------\u001b[0m",
      "\u001b[0;31mNameError\u001b[0m                                 Traceback (most recent call last)",
      "\u001b[0;32m/tmp/ipykernel_376/1987034431.py\u001b[0m in \u001b[0;36m<module>\u001b[0;34m\u001b[0m\n\u001b[0;32m----> 1\u001b[0;31m \u001b[0mdist_info\u001b[0m\u001b[0;34m.\u001b[0m\u001b[0mto_pickle\u001b[0m\u001b[0;34m(\u001b[0m\u001b[0;34m'./dist_info.pkl'\u001b[0m\u001b[0;34m)\u001b[0m\u001b[0;34m\u001b[0m\u001b[0;34m\u001b[0m\u001b[0m\n\u001b[0m",
      "\u001b[0;31mNameError\u001b[0m: name 'dist_info' is not defined"
     ]
    }
   ],
   "source": [
    "dist_info.to_pickle('./dist_info.pkl')"
   ]
  },
  {
   "cell_type": "code",
   "execution_count": 18,
   "id": "4edb30ac",
   "metadata": {},
   "outputs": [
    {
     "ename": "NameError",
     "evalue": "name 'pd' is not defined",
     "output_type": "error",
     "traceback": [
      "\u001b[0;31m---------------------------------------------------------------------------\u001b[0m",
      "\u001b[0;31mNameError\u001b[0m                                 Traceback (most recent call last)",
      "\u001b[0;32m/tmp/ipykernel_376/3858168515.py\u001b[0m in \u001b[0;36m<module>\u001b[0;34m\u001b[0m\n\u001b[0;32m----> 1\u001b[0;31m \u001b[0mcc_df\u001b[0m\u001b[0;34m=\u001b[0m\u001b[0mpd\u001b[0m\u001b[0;34m.\u001b[0m\u001b[0mmerge\u001b[0m\u001b[0;34m(\u001b[0m\u001b[0mcc_df\u001b[0m\u001b[0;34m,\u001b[0m\u001b[0mdist_info\u001b[0m\u001b[0;34m,\u001b[0m\u001b[0mon\u001b[0m\u001b[0;34m=\u001b[0m\u001b[0;34m'cc_num'\u001b[0m\u001b[0;34m,\u001b[0m\u001b[0mhow\u001b[0m\u001b[0;34m=\u001b[0m\u001b[0;34m'left'\u001b[0m\u001b[0;34m)\u001b[0m\u001b[0;34m\u001b[0m\u001b[0;34m\u001b[0m\u001b[0m\n\u001b[0m",
      "\u001b[0;31mNameError\u001b[0m: name 'pd' is not defined"
     ]
    }
   ],
   "source": [
    "cc_df=pd.merge(cc_df,dist_info,on='cc_num',how='left')"
   ]
  },
  {
   "cell_type": "code",
   "execution_count": 19,
   "id": "bdc96751",
   "metadata": {},
   "outputs": [
    {
     "ename": "NameError",
     "evalue": "name 'cc_df' is not defined",
     "output_type": "error",
     "traceback": [
      "\u001b[0;31m---------------------------------------------------------------------------\u001b[0m",
      "\u001b[0;31mNameError\u001b[0m                                 Traceback (most recent call last)",
      "\u001b[0;32m/tmp/ipykernel_376/3725455974.py\u001b[0m in \u001b[0;36m<module>\u001b[0;34m\u001b[0m\n\u001b[0;32m----> 1\u001b[0;31m \u001b[0mcc_df\u001b[0m\u001b[0;34m.\u001b[0m\u001b[0mhead\u001b[0m\u001b[0;34m(\u001b[0m\u001b[0;34m)\u001b[0m\u001b[0;34m\u001b[0m\u001b[0;34m\u001b[0m\u001b[0m\n\u001b[0m",
      "\u001b[0;31mNameError\u001b[0m: name 'cc_df' is not defined"
     ]
    }
   ],
   "source": [
    "cc_df.head()"
   ]
  },
  {
   "cell_type": "code",
   "execution_count": 20,
   "id": "142d08fd",
   "metadata": {},
   "outputs": [
    {
     "ename": "NameError",
     "evalue": "name 'cc_df' is not defined",
     "output_type": "error",
     "traceback": [
      "\u001b[0;31m---------------------------------------------------------------------------\u001b[0m",
      "\u001b[0;31mNameError\u001b[0m                                 Traceback (most recent call last)",
      "\u001b[0;32m/tmp/ipykernel_376/780583808.py\u001b[0m in \u001b[0;36m<module>\u001b[0;34m\u001b[0m\n\u001b[0;32m----> 1\u001b[0;31m \u001b[0mmean_3\u001b[0m\u001b[0;34m=\u001b[0m\u001b[0mcc_df\u001b[0m\u001b[0;34m[\u001b[0m\u001b[0;34m'distance'\u001b[0m\u001b[0;34m]\u001b[0m\u001b[0;34m.\u001b[0m\u001b[0mmean\u001b[0m\u001b[0;34m(\u001b[0m\u001b[0;34m)\u001b[0m\u001b[0;34m\u001b[0m\u001b[0;34m\u001b[0m\u001b[0m\n\u001b[0m\u001b[1;32m      2\u001b[0m \u001b[0mstd_3\u001b[0m\u001b[0;34m=\u001b[0m\u001b[0mcc_df\u001b[0m\u001b[0;34m[\u001b[0m\u001b[0;34m'distance'\u001b[0m\u001b[0;34m]\u001b[0m\u001b[0;34m.\u001b[0m\u001b[0mstd\u001b[0m\u001b[0;34m(\u001b[0m\u001b[0;34m)\u001b[0m\u001b[0;34m\u001b[0m\u001b[0;34m\u001b[0m\u001b[0m\n\u001b[1;32m      3\u001b[0m \u001b[0;34m\u001b[0m\u001b[0m\n\u001b[1;32m      4\u001b[0m \u001b[0mcc_df\u001b[0m\u001b[0;34m[\u001b[0m\u001b[0;34m'dist_z'\u001b[0m\u001b[0;34m]\u001b[0m\u001b[0;34m=\u001b[0m\u001b[0;34m(\u001b[0m\u001b[0mcc_df\u001b[0m\u001b[0;34m[\u001b[0m\u001b[0;34m'distance'\u001b[0m\u001b[0;34m]\u001b[0m\u001b[0;34m-\u001b[0m\u001b[0mmean_3\u001b[0m\u001b[0;34m)\u001b[0m\u001b[0;34m/\u001b[0m\u001b[0mstd_3\u001b[0m\u001b[0;34m\u001b[0m\u001b[0;34m\u001b[0m\u001b[0m\n",
      "\u001b[0;31mNameError\u001b[0m: name 'cc_df' is not defined"
     ]
    }
   ],
   "source": [
    "mean_3=cc_df['distance'].mean()\n",
    "std_3=cc_df['distance'].std()\n",
    "\n",
    "cc_df['dist_z']=(cc_df['distance']-mean_3)/std_3"
   ]
  },
  {
   "cell_type": "code",
   "execution_count": 21,
   "id": "8d8782cd",
   "metadata": {},
   "outputs": [
    {
     "ename": "NameError",
     "evalue": "name 'cc_df' is not defined",
     "output_type": "error",
     "traceback": [
      "\u001b[0;31m---------------------------------------------------------------------------\u001b[0m",
      "\u001b[0;31mNameError\u001b[0m                                 Traceback (most recent call last)",
      "\u001b[0;32m/tmp/ipykernel_376/1340782905.py\u001b[0m in \u001b[0;36m<module>\u001b[0;34m\u001b[0m\n\u001b[0;32m----> 1\u001b[0;31m \u001b[0mcc_df\u001b[0m\u001b[0;34m\u001b[0m\u001b[0;34m\u001b[0m\u001b[0m\n\u001b[0m",
      "\u001b[0;31mNameError\u001b[0m: name 'cc_df' is not defined"
     ]
    }
   ],
   "source": [
    "cc_df"
   ]
  },
  {
   "cell_type": "code",
   "execution_count": 22,
   "id": "83d8ab93",
   "metadata": {},
   "outputs": [
    {
     "ename": "NameError",
     "evalue": "name 'cc_df' is not defined",
     "output_type": "error",
     "traceback": [
      "\u001b[0;31m---------------------------------------------------------------------------\u001b[0m",
      "\u001b[0;31mNameError\u001b[0m                                 Traceback (most recent call last)",
      "\u001b[0;32m/tmp/ipykernel_376/679164034.py\u001b[0m in \u001b[0;36m<module>\u001b[0;34m\u001b[0m\n\u001b[0;32m----> 1\u001b[0;31m \u001b[0mcc_df\u001b[0m\u001b[0;34m.\u001b[0m\u001b[0mdrop\u001b[0m\u001b[0;34m(\u001b[0m\u001b[0;34m[\u001b[0m\u001b[0;34m'lat'\u001b[0m\u001b[0;34m,\u001b[0m\u001b[0;34m'long'\u001b[0m\u001b[0;34m,\u001b[0m\u001b[0;34m'merch_lat'\u001b[0m\u001b[0;34m,\u001b[0m\u001b[0;34m'merch_long'\u001b[0m\u001b[0;34m,\u001b[0m\u001b[0;34m'mean'\u001b[0m\u001b[0;34m,\u001b[0m\u001b[0;34m'std'\u001b[0m\u001b[0;34m]\u001b[0m\u001b[0;34m,\u001b[0m \u001b[0maxis\u001b[0m \u001b[0;34m=\u001b[0m \u001b[0;36m1\u001b[0m\u001b[0;34m,\u001b[0m \u001b[0minplace\u001b[0m \u001b[0;34m=\u001b[0m \u001b[0;32mTrue\u001b[0m\u001b[0;34m)\u001b[0m\u001b[0;34m\u001b[0m\u001b[0;34m\u001b[0m\u001b[0m\n\u001b[0m",
      "\u001b[0;31mNameError\u001b[0m: name 'cc_df' is not defined"
     ]
    }
   ],
   "source": [
    "cc_df.drop(['lat','long','merch_lat','merch_long','mean','std'], axis = 1, inplace = True)"
   ]
  },
  {
   "cell_type": "code",
   "execution_count": 23,
   "id": "ca045a6a",
   "metadata": {},
   "outputs": [
    {
     "ename": "NameError",
     "evalue": "name 'pd' is not defined",
     "output_type": "error",
     "traceback": [
      "\u001b[0;31m---------------------------------------------------------------------------\u001b[0m",
      "\u001b[0;31mNameError\u001b[0m                                 Traceback (most recent call last)",
      "\u001b[0;32m/tmp/ipykernel_376/1896157271.py\u001b[0m in \u001b[0;36m<module>\u001b[0;34m\u001b[0m\n\u001b[0;32m----> 1\u001b[0;31m \u001b[0mcc_df\u001b[0m\u001b[0;34m[\u001b[0m\u001b[0;34m'dob'\u001b[0m\u001b[0;34m]\u001b[0m\u001b[0;34m=\u001b[0m\u001b[0mpd\u001b[0m\u001b[0;34m.\u001b[0m\u001b[0mto_datetime\u001b[0m\u001b[0;34m(\u001b[0m\u001b[0mcc_df\u001b[0m\u001b[0;34m[\u001b[0m\u001b[0;34m'dob'\u001b[0m\u001b[0;34m]\u001b[0m\u001b[0;34m)\u001b[0m\u001b[0;34m.\u001b[0m\u001b[0mdt\u001b[0m\u001b[0;34m.\u001b[0m\u001b[0myear\u001b[0m\u001b[0;34m\u001b[0m\u001b[0;34m\u001b[0m\u001b[0m\n\u001b[0m",
      "\u001b[0;31mNameError\u001b[0m: name 'pd' is not defined"
     ]
    }
   ],
   "source": [
    "cc_df['dob']=pd.to_datetime(cc_df['dob']).dt.year"
   ]
  },
  {
   "cell_type": "code",
   "execution_count": 24,
   "id": "4babf0df",
   "metadata": {},
   "outputs": [
    {
     "ename": "NameError",
     "evalue": "name 'cc_df' is not defined",
     "output_type": "error",
     "traceback": [
      "\u001b[0;31m---------------------------------------------------------------------------\u001b[0m",
      "\u001b[0;31mNameError\u001b[0m                                 Traceback (most recent call last)",
      "\u001b[0;32m/tmp/ipykernel_376/4037017448.py\u001b[0m in \u001b[0;36m<module>\u001b[0;34m\u001b[0m\n\u001b[0;32m----> 1\u001b[0;31m \u001b[0mcc_df\u001b[0m\u001b[0;34m[\u001b[0m\u001b[0;34m'category'\u001b[0m\u001b[0;34m]\u001b[0m\u001b[0;34m.\u001b[0m\u001b[0mnunique\u001b[0m\u001b[0;34m(\u001b[0m\u001b[0;34m)\u001b[0m\u001b[0;34m\u001b[0m\u001b[0;34m\u001b[0m\u001b[0m\n\u001b[0m",
      "\u001b[0;31mNameError\u001b[0m: name 'cc_df' is not defined"
     ]
    }
   ],
   "source": [
    "cc_df['category'].nunique()"
   ]
  },
  {
   "cell_type": "code",
   "execution_count": 25,
   "id": "b094f793",
   "metadata": {},
   "outputs": [
    {
     "ename": "NameError",
     "evalue": "name 'pd' is not defined",
     "output_type": "error",
     "traceback": [
      "\u001b[0;31m---------------------------------------------------------------------------\u001b[0m",
      "\u001b[0;31mNameError\u001b[0m                                 Traceback (most recent call last)",
      "\u001b[0;32m/tmp/ipykernel_376/3715403215.py\u001b[0m in \u001b[0;36m<module>\u001b[0;34m\u001b[0m\n\u001b[0;32m----> 1\u001b[0;31m \u001b[0mcc_df\u001b[0m \u001b[0;34m=\u001b[0m \u001b[0mpd\u001b[0m\u001b[0;34m.\u001b[0m\u001b[0mget_dummies\u001b[0m\u001b[0;34m(\u001b[0m\u001b[0mcc_df\u001b[0m\u001b[0;34m,\u001b[0m \u001b[0mdrop_first\u001b[0m\u001b[0;34m=\u001b[0m\u001b[0;32mTrue\u001b[0m\u001b[0;34m)\u001b[0m\u001b[0;34m\u001b[0m\u001b[0;34m\u001b[0m\u001b[0m\n\u001b[0m",
      "\u001b[0;31mNameError\u001b[0m: name 'pd' is not defined"
     ]
    }
   ],
   "source": [
    "cc_df = pd.get_dummies(cc_df, drop_first=True)"
   ]
  },
  {
   "cell_type": "code",
   "execution_count": 26,
   "id": "0bec199f",
   "metadata": {},
   "outputs": [
    {
     "ename": "NameError",
     "evalue": "name 'cc_df' is not defined",
     "output_type": "error",
     "traceback": [
      "\u001b[0;31m---------------------------------------------------------------------------\u001b[0m",
      "\u001b[0;31mNameError\u001b[0m                                 Traceback (most recent call last)",
      "\u001b[0;32m/tmp/ipykernel_376/3725455974.py\u001b[0m in \u001b[0;36m<module>\u001b[0;34m\u001b[0m\n\u001b[0;32m----> 1\u001b[0;31m \u001b[0mcc_df\u001b[0m\u001b[0;34m.\u001b[0m\u001b[0mhead\u001b[0m\u001b[0;34m(\u001b[0m\u001b[0;34m)\u001b[0m\u001b[0;34m\u001b[0m\u001b[0;34m\u001b[0m\u001b[0m\n\u001b[0m",
      "\u001b[0;31mNameError\u001b[0m: name 'cc_df' is not defined"
     ]
    }
   ],
   "source": [
    "cc_df.head()"
   ]
  },
  {
   "cell_type": "code",
   "execution_count": 27,
   "id": "973b9a05",
   "metadata": {},
   "outputs": [
    {
     "ename": "NameError",
     "evalue": "name 'cc_df' is not defined",
     "output_type": "error",
     "traceback": [
      "\u001b[0;31m---------------------------------------------------------------------------\u001b[0m",
      "\u001b[0;31mNameError\u001b[0m                                 Traceback (most recent call last)",
      "\u001b[0;32m/tmp/ipykernel_376/4196249158.py\u001b[0m in \u001b[0;36m<module>\u001b[0;34m\u001b[0m\n\u001b[0;32m----> 1\u001b[0;31m \u001b[0mcc_df\u001b[0m\u001b[0;34m.\u001b[0m\u001b[0mdrop\u001b[0m\u001b[0;34m(\u001b[0m\u001b[0;34m'cc_num'\u001b[0m\u001b[0;34m,\u001b[0m \u001b[0maxis\u001b[0m \u001b[0;34m=\u001b[0m \u001b[0;36m1\u001b[0m\u001b[0;34m,\u001b[0m \u001b[0minplace\u001b[0m \u001b[0;34m=\u001b[0m \u001b[0;32mTrue\u001b[0m\u001b[0;34m)\u001b[0m\u001b[0;34m\u001b[0m\u001b[0;34m\u001b[0m\u001b[0m\n\u001b[0m",
      "\u001b[0;31mNameError\u001b[0m: name 'cc_df' is not defined"
     ]
    }
   ],
   "source": [
    "cc_df.drop('cc_num', axis = 1, inplace = True)"
   ]
  },
  {
   "cell_type": "code",
   "execution_count": null,
   "id": "284a4dfc",
   "metadata": {},
   "outputs": [],
   "source": []
  }
 ],
 "metadata": {
  "kernelspec": {
   "display_name": "Python 3 (ipykernel)",
   "language": "python",
   "name": "python3"
  },
  "language_info": {
   "codemirror_mode": {
    "name": "ipython",
    "version": 3
   },
   "file_extension": ".py",
   "mimetype": "text/x-python",
   "name": "python",
   "nbconvert_exporter": "python",
   "pygments_lexer": "ipython3",
   "version": "3.9.7"
  }
 },
 "nbformat": 4,
 "nbformat_minor": 5
}
